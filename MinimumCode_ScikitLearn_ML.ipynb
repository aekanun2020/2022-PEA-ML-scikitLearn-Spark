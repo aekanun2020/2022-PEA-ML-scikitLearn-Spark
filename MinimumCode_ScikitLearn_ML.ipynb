{
  "nbformat": 4,
  "nbformat_minor": 0,
  "metadata": {
    "colab": {
      "provenance": [],
      "collapsed_sections": [],
      "authorship_tag": "ABX9TyNcBmDiN4S9XGVswxZ3szEv",
      "include_colab_link": true
    },
    "kernelspec": {
      "name": "python3",
      "display_name": "Python 3"
    },
    "language_info": {
      "name": "python"
    }
  },
  "cells": [
    {
      "cell_type": "markdown",
      "metadata": {
        "id": "view-in-github",
        "colab_type": "text"
      },
      "source": [
        "<a href=\"https://colab.research.google.com/github/aekanun2020/2022-PEA-ML-sklearn-Spark-/blob/main/MinimumCode_ScikitLearn_ML.ipynb\" target=\"_parent\"><img src=\"https://colab.research.google.com/assets/colab-badge.svg\" alt=\"Open In Colab\"/></a>"
      ]
    },
    {
      "cell_type": "code",
      "execution_count": 1,
      "metadata": {
        "id": "QOxxYVEo8IWl"
      },
      "outputs": [],
      "source": [
        "import numpy as np\n",
        "import pandas as pd"
      ]
    },
    {
      "cell_type": "code",
      "source": [
        "! wget https://storage.googleapis.com/2022oct23/LoanStats_web.csv"
      ],
      "metadata": {
        "colab": {
          "base_uri": "https://localhost:8080/"
        },
        "id": "85VvI24M8LhL",
        "outputId": "136b7d11-945e-463e-9496-695dde9e582b"
      },
      "execution_count": 2,
      "outputs": [
        {
          "output_type": "stream",
          "name": "stdout",
          "text": [
            "--2022-11-04 00:40:55--  https://storage.googleapis.com/2022oct23/LoanStats_web.csv\n",
            "Resolving storage.googleapis.com (storage.googleapis.com)... 142.251.111.128, 142.251.45.16, 172.217.0.48, ...\n",
            "Connecting to storage.googleapis.com (storage.googleapis.com)|142.251.111.128|:443... connected.\n",
            "HTTP request sent, awaiting response... 200 OK\n",
            "Length: 1160243241 (1.1G) [text/csv]\n",
            "Saving to: ‘LoanStats_web.csv’\n",
            "\n",
            "LoanStats_web.csv   100%[===================>]   1.08G  63.8MB/s    in 18s     \n",
            "\n",
            "2022-11-04 00:41:14 (60.7 MB/s) - ‘LoanStats_web.csv’ saved [1160243241/1160243241]\n",
            "\n"
          ]
        }
      ]
    },
    {
      "cell_type": "code",
      "source": [
        "loans = pd.read_csv('LoanStats_web.csv')"
      ],
      "metadata": {
        "colab": {
          "base_uri": "https://localhost:8080/"
        },
        "id": "syeYeI0j8OyV",
        "outputId": "d414c9d4-e0ef-4eeb-c792-17e5539e2be3"
      },
      "execution_count": 3,
      "outputs": [
        {
          "output_type": "stream",
          "name": "stderr",
          "text": [
            "/usr/local/lib/python3.7/dist-packages/IPython/core/interactiveshell.py:3326: DtypeWarning: Columns (0,19,55,112,123,124,125,128,129,130,133,138,139,140) have mixed types.Specify dtype option on import or set low_memory=False.\n",
            "  exec(code_obj, self.user_global_ns, self.user_ns)\n"
          ]
        }
      ]
    },
    {
      "cell_type": "code",
      "source": [
        "## เลือกเฉพาะ rows ข้อมูลที่มี loan_staus เป็น Fully Paid และ Charged Off\n",
        "\n",
        "loans = loans[loans['loan_status'].isin(['Fully Paid', 'Charged Off'])]"
      ],
      "metadata": {
        "id": "bLjIxdv3-bHX"
      },
      "execution_count": 4,
      "outputs": []
    },
    {
      "cell_type": "code",
      "source": [
        "selectedCol_list = ['loan_amnt','int_rate','loan_status','issue_d']"
      ],
      "metadata": {
        "id": "GvOoegXD8gdT"
      },
      "execution_count": 5,
      "outputs": []
    },
    {
      "cell_type": "code",
      "source": [
        "loans = loans[selectedCol_list].sample(50000)"
      ],
      "metadata": {
        "id": "kbHaDsao8TvE"
      },
      "execution_count": 6,
      "outputs": []
    },
    {
      "cell_type": "code",
      "source": [
        "loans.info()"
      ],
      "metadata": {
        "colab": {
          "base_uri": "https://localhost:8080/"
        },
        "id": "lFjIlz_v8nHW",
        "outputId": "f30535e3-7ac0-442e-c820-eb0b04b82a8b"
      },
      "execution_count": 7,
      "outputs": [
        {
          "output_type": "stream",
          "name": "stdout",
          "text": [
            "<class 'pandas.core.frame.DataFrame'>\n",
            "Int64Index: 50000 entries, 1031897 to 565640\n",
            "Data columns (total 4 columns):\n",
            " #   Column       Non-Null Count  Dtype  \n",
            "---  ------       --------------  -----  \n",
            " 0   loan_amnt    50000 non-null  float64\n",
            " 1   int_rate     50000 non-null  object \n",
            " 2   loan_status  50000 non-null  object \n",
            " 3   issue_d      50000 non-null  object \n",
            "dtypes: float64(1), object(3)\n",
            "memory usage: 1.9+ MB\n"
          ]
        }
      ]
    },
    {
      "cell_type": "code",
      "source": [
        "loans.shape"
      ],
      "metadata": {
        "colab": {
          "base_uri": "https://localhost:8080/"
        },
        "id": "z76HHhm-9BFJ",
        "outputId": "53309b69-1746-42b9-e2f6-54fde0b65e35"
      },
      "execution_count": 8,
      "outputs": [
        {
          "output_type": "execute_result",
          "data": {
            "text/plain": [
              "(50000, 4)"
            ]
          },
          "metadata": {},
          "execution_count": 8
        }
      ]
    },
    {
      "cell_type": "code",
      "source": [
        "## เปลี่ยน data type ของ issue_d เป็น datetime\n",
        "loans['issue_d'] = pd.to_datetime(loans['issue_d'])"
      ],
      "metadata": {
        "id": "cz91LEVlCJAx"
      },
      "execution_count": 9,
      "outputs": []
    },
    {
      "cell_type": "code",
      "source": [
        "loans['charged_off'] = (loans['loan_status'] == 'Charged Off').apply(np.uint8)\n",
        "loans.drop('loan_status', axis=1, inplace=True)"
      ],
      "metadata": {
        "id": "xxJ1J4zxDWL-"
      },
      "execution_count": 10,
      "outputs": []
    },
    {
      "cell_type": "code",
      "source": [
        "# สร้าง training set และ testing set ซึ่งเป็นแบบ Hand-out testing set\n",
        "# โดยข้อมูลที่เก่ากว่า issue_d ที่ quantile 0.9 ถูกนำมาสุ่มเลือกเพื่อเป็น training set\n",
        "# ส่วนข้อมูลที่ใหม่กว่าฯ ถูกนำมาสุ่มเลือกเพื่อเป็น testing set\n",
        "loans_train = loans.loc[loans['issue_d'] < loans['issue_d'].quantile(0.9)].sample(frac=0.5).dropna() \n",
        "loans_test = loans.loc[loans['issue_d'] >= loans['issue_d'].quantile(0.9)].sample(frac=0.5).dropna()"
      ],
      "metadata": {
        "id": "8vn1ZJla-xJP"
      },
      "execution_count": 11,
      "outputs": []
    },
    {
      "cell_type": "code",
      "source": [
        "print(loans_train[loans_train['charged_off']==1].shape)\n",
        "print(loans_train[loans_train['charged_off']==0].shape)"
      ],
      "metadata": {
        "colab": {
          "base_uri": "https://localhost:8080/"
        },
        "id": "N3wmMlb0CbTl",
        "outputId": "609d9ffc-ebf6-4e26-b0dd-eaf9289bde4f"
      },
      "execution_count": 12,
      "outputs": [
        {
          "output_type": "stream",
          "name": "stdout",
          "text": [
            "(4646, 4)\n",
            "(17584, 4)\n"
          ]
        }
      ]
    },
    {
      "cell_type": "code",
      "source": [
        "loans_train = loans_train.drop('issue_d',axis=1)\n",
        "loans_test = loans_test.drop('issue_d',axis=1)\n",
        "\n",
        "y_train = loans_train['charged_off']\n",
        "y_test = loans_test['charged_off']\n",
        "\n",
        "X_train = loans_train.drop('charged_off', axis=1)\n",
        "X_test = loans_test.drop('charged_off', axis=1)"
      ],
      "metadata": {
        "id": "T5M4ayfu-xMW"
      },
      "execution_count": 13,
      "outputs": []
    },
    {
      "cell_type": "code",
      "source": [
        "\n",
        "\n",
        "# รวบรวมชื่อ Column ที่เป็น String เก็บไว้ในตัวแปรชื่อ categorical\n",
        "categorical = list(X_train.select_dtypes('object').columns)\n",
        "print(f\"Categorical columns are: {categorical}\")\n",
        "\n",
        "# รวบรวมชื่อ Column ที่เป็น numerical เก็บไว้ในตัวแปรชื่อ numerical\n",
        "numerical = list(X_train.select_dtypes('number').columns)\n",
        "print(f\"Numerical columns are: {numerical}\")\n",
        "\n"
      ],
      "metadata": {
        "colab": {
          "base_uri": "https://localhost:8080/"
        },
        "id": "k5SAj9exEniI",
        "outputId": "b60673ab-aae4-463a-cec1-404bad362158"
      },
      "execution_count": 14,
      "outputs": [
        {
          "output_type": "stream",
          "name": "stdout",
          "text": [
            "Categorical columns are: ['int_rate']\n",
            "Numerical columns are: ['loan_amnt']\n"
          ]
        }
      ]
    },
    {
      "cell_type": "code",
      "source": [
        "from sklearn.linear_model import LinearRegression, LogisticRegression"
      ],
      "metadata": {
        "id": "cMtjXcwPE108"
      },
      "execution_count": 15,
      "outputs": []
    },
    {
      "cell_type": "code",
      "source": [
        "# กำหนด ML Algorithm\n",
        "lr = LogisticRegression()\n",
        "\n",
        "# เลือกเฉพาะ Numerical variables มาสร้างโมเดล\n",
        "# train_cols = X_train[numerical].columns.tolist()\n",
        "\n",
        "# เลือกเฉพาะ Numerical variables มาเป็น Feature\n",
        "# แล้วส่ง Feature เก็บไว้ในตัวแปรชื่อ features\n",
        "features = X_train[numerical]\n",
        "\n",
        "# ส่ง Label เก็บไว้ในตัวแปรชื่อ target\n",
        "target = y_train\n",
        "\n",
        "# สร้าง ML Model\n",
        "lr.fit(features, target)\n"
      ],
      "metadata": {
        "colab": {
          "base_uri": "https://localhost:8080/"
        },
        "id": "5SYypucQ9Cl9",
        "outputId": "12f3862c-e9a3-40b6-d543-d9ba25d378f9"
      },
      "execution_count": 16,
      "outputs": [
        {
          "output_type": "execute_result",
          "data": {
            "text/plain": [
              "LogisticRegression()"
            ]
          },
          "metadata": {},
          "execution_count": 16
        }
      ]
    },
    {
      "cell_type": "code",
      "source": [
        "\n",
        "\n",
        "from sklearn.metrics import confusion_matrix\n",
        "\n",
        "# การนำ model lr มา make prediction โดยค่าที่ predict ถูกเก็บไว้ใน y_pred\n",
        "y_pred = lr.predict(X_test[numerical]).flatten()\n",
        "\n",
        "# นำค่าที่ predict (y_pred) มาเปรียบเทียบกับค่าจริงที่อยู่ใน y_test\n",
        "cm = confusion_matrix(y_test,y_pred)\n",
        "\n",
        "# สรุปผลการเปรียบเทียบด้วย Confusion Matrix\n",
        "pd.crosstab(y_test, y_pred, rownames = ['Actual'], colnames =['Predicted'], margins = True)\n",
        "\n"
      ],
      "metadata": {
        "colab": {
          "base_uri": "https://localhost:8080/",
          "height": 175
        },
        "id": "cCICjBo_CfRC",
        "outputId": "1a208562-e7d4-4b78-d1ea-cb95d94148c9"
      },
      "execution_count": 17,
      "outputs": [
        {
          "output_type": "execute_result",
          "data": {
            "text/plain": [
              "Predicted     0   All\n",
              "Actual               \n",
              "0          2308  2308\n",
              "1           462   462\n",
              "All        2770  2770"
            ],
            "text/html": [
              "\n",
              "  <div id=\"df-bd8081c2-9724-4bbc-b6e9-553ce13a6e04\">\n",
              "    <div class=\"colab-df-container\">\n",
              "      <div>\n",
              "<style scoped>\n",
              "    .dataframe tbody tr th:only-of-type {\n",
              "        vertical-align: middle;\n",
              "    }\n",
              "\n",
              "    .dataframe tbody tr th {\n",
              "        vertical-align: top;\n",
              "    }\n",
              "\n",
              "    .dataframe thead th {\n",
              "        text-align: right;\n",
              "    }\n",
              "</style>\n",
              "<table border=\"1\" class=\"dataframe\">\n",
              "  <thead>\n",
              "    <tr style=\"text-align: right;\">\n",
              "      <th>Predicted</th>\n",
              "      <th>0</th>\n",
              "      <th>All</th>\n",
              "    </tr>\n",
              "    <tr>\n",
              "      <th>Actual</th>\n",
              "      <th></th>\n",
              "      <th></th>\n",
              "    </tr>\n",
              "  </thead>\n",
              "  <tbody>\n",
              "    <tr>\n",
              "      <th>0</th>\n",
              "      <td>2308</td>\n",
              "      <td>2308</td>\n",
              "    </tr>\n",
              "    <tr>\n",
              "      <th>1</th>\n",
              "      <td>462</td>\n",
              "      <td>462</td>\n",
              "    </tr>\n",
              "    <tr>\n",
              "      <th>All</th>\n",
              "      <td>2770</td>\n",
              "      <td>2770</td>\n",
              "    </tr>\n",
              "  </tbody>\n",
              "</table>\n",
              "</div>\n",
              "      <button class=\"colab-df-convert\" onclick=\"convertToInteractive('df-bd8081c2-9724-4bbc-b6e9-553ce13a6e04')\"\n",
              "              title=\"Convert this dataframe to an interactive table.\"\n",
              "              style=\"display:none;\">\n",
              "        \n",
              "  <svg xmlns=\"http://www.w3.org/2000/svg\" height=\"24px\"viewBox=\"0 0 24 24\"\n",
              "       width=\"24px\">\n",
              "    <path d=\"M0 0h24v24H0V0z\" fill=\"none\"/>\n",
              "    <path d=\"M18.56 5.44l.94 2.06.94-2.06 2.06-.94-2.06-.94-.94-2.06-.94 2.06-2.06.94zm-11 1L8.5 8.5l.94-2.06 2.06-.94-2.06-.94L8.5 2.5l-.94 2.06-2.06.94zm10 10l.94 2.06.94-2.06 2.06-.94-2.06-.94-.94-2.06-.94 2.06-2.06.94z\"/><path d=\"M17.41 7.96l-1.37-1.37c-.4-.4-.92-.59-1.43-.59-.52 0-1.04.2-1.43.59L10.3 9.45l-7.72 7.72c-.78.78-.78 2.05 0 2.83L4 21.41c.39.39.9.59 1.41.59.51 0 1.02-.2 1.41-.59l7.78-7.78 2.81-2.81c.8-.78.8-2.07 0-2.86zM5.41 20L4 18.59l7.72-7.72 1.47 1.35L5.41 20z\"/>\n",
              "  </svg>\n",
              "      </button>\n",
              "      \n",
              "  <style>\n",
              "    .colab-df-container {\n",
              "      display:flex;\n",
              "      flex-wrap:wrap;\n",
              "      gap: 12px;\n",
              "    }\n",
              "\n",
              "    .colab-df-convert {\n",
              "      background-color: #E8F0FE;\n",
              "      border: none;\n",
              "      border-radius: 50%;\n",
              "      cursor: pointer;\n",
              "      display: none;\n",
              "      fill: #1967D2;\n",
              "      height: 32px;\n",
              "      padding: 0 0 0 0;\n",
              "      width: 32px;\n",
              "    }\n",
              "\n",
              "    .colab-df-convert:hover {\n",
              "      background-color: #E2EBFA;\n",
              "      box-shadow: 0px 1px 2px rgba(60, 64, 67, 0.3), 0px 1px 3px 1px rgba(60, 64, 67, 0.15);\n",
              "      fill: #174EA6;\n",
              "    }\n",
              "\n",
              "    [theme=dark] .colab-df-convert {\n",
              "      background-color: #3B4455;\n",
              "      fill: #D2E3FC;\n",
              "    }\n",
              "\n",
              "    [theme=dark] .colab-df-convert:hover {\n",
              "      background-color: #434B5C;\n",
              "      box-shadow: 0px 1px 3px 1px rgba(0, 0, 0, 0.15);\n",
              "      filter: drop-shadow(0px 1px 2px rgba(0, 0, 0, 0.3));\n",
              "      fill: #FFFFFF;\n",
              "    }\n",
              "  </style>\n",
              "\n",
              "      <script>\n",
              "        const buttonEl =\n",
              "          document.querySelector('#df-bd8081c2-9724-4bbc-b6e9-553ce13a6e04 button.colab-df-convert');\n",
              "        buttonEl.style.display =\n",
              "          google.colab.kernel.accessAllowed ? 'block' : 'none';\n",
              "\n",
              "        async function convertToInteractive(key) {\n",
              "          const element = document.querySelector('#df-bd8081c2-9724-4bbc-b6e9-553ce13a6e04');\n",
              "          const dataTable =\n",
              "            await google.colab.kernel.invokeFunction('convertToInteractive',\n",
              "                                                     [key], {});\n",
              "          if (!dataTable) return;\n",
              "\n",
              "          const docLinkHtml = 'Like what you see? Visit the ' +\n",
              "            '<a target=\"_blank\" href=https://colab.research.google.com/notebooks/data_table.ipynb>data table notebook</a>'\n",
              "            + ' to learn more about interactive tables.';\n",
              "          element.innerHTML = '';\n",
              "          dataTable['output_type'] = 'display_data';\n",
              "          await google.colab.output.renderOutput(dataTable, element);\n",
              "          const docLink = document.createElement('div');\n",
              "          docLink.innerHTML = docLinkHtml;\n",
              "          element.appendChild(docLink);\n",
              "        }\n",
              "      </script>\n",
              "    </div>\n",
              "  </div>\n",
              "  "
            ]
          },
          "metadata": {},
          "execution_count": 17
        }
      ]
    },
    {
      "cell_type": "code",
      "source": [
        "from sklearn.metrics import confusion_matrix\n",
        "\n",
        "# นำผลการเปรียบเทียบมาคำนวณ เพื่อประเมินตามเกณฑ์\n",
        "#cm = confusion_matrix(y_test, y_pred)\n",
        "#print(\"Confusion Matrix (predict/actual):\\n\", pd.DataFrame(cm))\n",
        "lr.score(X_test[numerical], y_test)\n",
        "\n",
        "\n",
        "#เกณฑ์ recall\n",
        "recall = np.diag(cm) / np.sum(cm, axis=1)\n",
        "print(\"\\nRecall:\\n\", pd.Series(recall))\n",
        "\n",
        "#เกณฑ์ precision\n",
        "precision = np.diag(cm) / np.sum(cm, axis=0)\n",
        "print(\"\\nPrecision:\\n\", pd.Series(precision))\n",
        "\n",
        "#เกณฑ์ f1\n",
        "from sklearn.metrics import f1_score\n",
        "weighted_f1 = f1_score(y_test, y_pred, average=\"weighted\")\n",
        "print(\"\\nF1 score:\\n\", weighted_f1)\n"
      ],
      "metadata": {
        "colab": {
          "base_uri": "https://localhost:8080/"
        },
        "id": "-OEdIOVEE6eB",
        "outputId": "c35849eb-fa47-45b8-dcee-7e21693988ad"
      },
      "execution_count": 18,
      "outputs": [
        {
          "output_type": "stream",
          "name": "stdout",
          "text": [
            "\n",
            "Recall:\n",
            " 0    1.0\n",
            "1    0.0\n",
            "dtype: float64\n",
            "\n",
            "Precision:\n",
            " 0    0.833213\n",
            "1         NaN\n",
            "dtype: float64\n",
            "\n",
            "F1 score:\n",
            " 0.7574066938431943\n"
          ]
        },
        {
          "output_type": "stream",
          "name": "stderr",
          "text": [
            "/usr/local/lib/python3.7/dist-packages/ipykernel_launcher.py:14: RuntimeWarning: invalid value encountered in true_divide\n",
            "  \n"
          ]
        }
      ]
    },
    {
      "cell_type": "code",
      "source": [],
      "metadata": {
        "id": "9tvdPg_UE8R6"
      },
      "execution_count": 18,
      "outputs": []
    }
  ]
}