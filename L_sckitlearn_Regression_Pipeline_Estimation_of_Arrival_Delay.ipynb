{
  "nbformat": 4,
  "nbformat_minor": 0,
  "metadata": {
    "colab": {
      "provenance": [],
      "collapsed_sections": [],
      "include_colab_link": true
    },
    "kernelspec": {
      "name": "python3",
      "display_name": "Python 3"
    },
    "language_info": {
      "name": "python"
    }
  },
  "cells": [
    {
      "cell_type": "markdown",
      "metadata": {
        "id": "view-in-github",
        "colab_type": "text"
      },
      "source": [
        "<a href=\"https://colab.research.google.com/github/aekanun2020/2022-PEA-ML-sklearn-Spark-/blob/main/L_sckitlearn_Regression_Pipeline_Estimation_of_Arrival_Delay.ipynb\" target=\"_parent\"><img src=\"https://colab.research.google.com/assets/colab-badge.svg\" alt=\"Open In Colab\"/></a>"
      ]
    },
    {
      "cell_type": "code",
      "source": [
        "import pandas as pd"
      ],
      "metadata": {
        "id": "TPW33Jyr0rDw"
      },
      "execution_count": 1,
      "outputs": []
    },
    {
      "cell_type": "code",
      "execution_count": 2,
      "metadata": {
        "colab": {
          "base_uri": "https://localhost:8080/"
        },
        "id": "dYaYQoX2zm6d",
        "outputId": "133ba2e8-06dd-49b2-cd29-85cd56509749"
      },
      "outputs": [
        {
          "output_type": "stream",
          "name": "stdout",
          "text": [
            "--2022-11-08 22:03:28--  https://s3.amazonaws.com/imcbucket/data/flights/2008.csv\n",
            "Resolving s3.amazonaws.com (s3.amazonaws.com)... 52.217.48.94\n",
            "Connecting to s3.amazonaws.com (s3.amazonaws.com)|52.217.48.94|:443... connected.\n",
            "HTTP request sent, awaiting response... 200 OK\n",
            "Length: 689413344 (657M) [binary/octet-stream]\n",
            "Saving to: ‘2008.csv’\n",
            "\n",
            "2008.csv            100%[===================>] 657.48M  46.6MB/s    in 15s     \n",
            "\n",
            "2022-11-08 22:03:43 (43.9 MB/s) - ‘2008.csv’ saved [689413344/689413344]\n",
            "\n"
          ]
        }
      ],
      "source": [
        "! wget https://s3.amazonaws.com/imcbucket/data/flights/2008.csv"
      ]
    },
    {
      "cell_type": "code",
      "source": [
        "! wc -l 2008.csv"
      ],
      "metadata": {
        "colab": {
          "base_uri": "https://localhost:8080/"
        },
        "id": "TG2-Sj5az66M",
        "outputId": "14f08c16-7a17-4a8d-fe2f-ea7ded89d929"
      },
      "execution_count": 3,
      "outputs": [
        {
          "output_type": "stream",
          "name": "stdout",
          "text": [
            "7009729 2008.csv\n"
          ]
        }
      ]
    },
    {
      "cell_type": "code",
      "source": [
        "f = \"2008.csv\"\n",
        "num_lines = sum(1 for l in open(f))\n",
        "size = int(num_lines / 100)\n",
        "import random\n",
        "skip_idx = random.sample(range(1, num_lines), num_lines - size)\n",
        "raw_pd = pd.read_csv(f, skiprows=skip_idx)"
      ],
      "metadata": {
        "id": "xcyjgxjNZQN7"
      },
      "execution_count": 4,
      "outputs": []
    },
    {
      "cell_type": "code",
      "source": [
        "#raw_pd = pd.read_csv(\"2008.csv\")"
      ],
      "metadata": {
        "id": "P9K4zh1o0B7J"
      },
      "execution_count": 5,
      "outputs": []
    },
    {
      "cell_type": "code",
      "source": [
        "raw_pd.head(5)"
      ],
      "metadata": {
        "colab": {
          "base_uri": "https://localhost:8080/",
          "height": 300
        },
        "id": "JQn1hNnS0lTT",
        "outputId": "f9358f61-a806-401c-e23b-08c6dd433d95"
      },
      "execution_count": 6,
      "outputs": [
        {
          "output_type": "execute_result",
          "data": {
            "text/plain": [
              "   Year  Month  DayofMonth  DayOfWeek  DepTime  CRSDepTime  ArrTime  \\\n",
              "0  2008      1           3          4      NaN         700      NaN   \n",
              "1  2008      1           3          4   1704.0        1645   1929.0   \n",
              "2  2008      1           3          4   1143.0        1035   1621.0   \n",
              "3  2008      1           3          4   1419.0        1400   1534.0   \n",
              "4  2008      1           3          4   1825.0        1745   1921.0   \n",
              "\n",
              "   CRSArrTime UniqueCarrier  FlightNum  ... TaxiIn  TaxiOut  Cancelled  \\\n",
              "0         830            WN        126  ...    NaN      NaN          1   \n",
              "1        1930            WN        340  ...    7.0      9.0          0   \n",
              "2        1505            WN        574  ...    3.0     29.0          0   \n",
              "3        1515            WN        420  ...    4.0      6.0          0   \n",
              "4        1850            WN        555  ...    4.0      5.0          0   \n",
              "\n",
              "   CancellationCode  Diverted  CarrierDelay WeatherDelay NASDelay  \\\n",
              "0                 A         0           NaN          NaN      NaN   \n",
              "1               NaN         0           NaN          NaN      NaN   \n",
              "2               NaN         0           0.0          0.0     14.0   \n",
              "3               NaN         0          12.0          0.0      0.0   \n",
              "4               NaN         0           4.0          0.0      0.0   \n",
              "\n",
              "   SecurityDelay  LateAircraftDelay  \n",
              "0            NaN                NaN  \n",
              "1            NaN                NaN  \n",
              "2            0.0               62.0  \n",
              "3            0.0                7.0  \n",
              "4            0.0               27.0  \n",
              "\n",
              "[5 rows x 29 columns]"
            ],
            "text/html": [
              "\n",
              "  <div id=\"df-8210aeef-864c-4511-aa5e-92da5857f86f\">\n",
              "    <div class=\"colab-df-container\">\n",
              "      <div>\n",
              "<style scoped>\n",
              "    .dataframe tbody tr th:only-of-type {\n",
              "        vertical-align: middle;\n",
              "    }\n",
              "\n",
              "    .dataframe tbody tr th {\n",
              "        vertical-align: top;\n",
              "    }\n",
              "\n",
              "    .dataframe thead th {\n",
              "        text-align: right;\n",
              "    }\n",
              "</style>\n",
              "<table border=\"1\" class=\"dataframe\">\n",
              "  <thead>\n",
              "    <tr style=\"text-align: right;\">\n",
              "      <th></th>\n",
              "      <th>Year</th>\n",
              "      <th>Month</th>\n",
              "      <th>DayofMonth</th>\n",
              "      <th>DayOfWeek</th>\n",
              "      <th>DepTime</th>\n",
              "      <th>CRSDepTime</th>\n",
              "      <th>ArrTime</th>\n",
              "      <th>CRSArrTime</th>\n",
              "      <th>UniqueCarrier</th>\n",
              "      <th>FlightNum</th>\n",
              "      <th>...</th>\n",
              "      <th>TaxiIn</th>\n",
              "      <th>TaxiOut</th>\n",
              "      <th>Cancelled</th>\n",
              "      <th>CancellationCode</th>\n",
              "      <th>Diverted</th>\n",
              "      <th>CarrierDelay</th>\n",
              "      <th>WeatherDelay</th>\n",
              "      <th>NASDelay</th>\n",
              "      <th>SecurityDelay</th>\n",
              "      <th>LateAircraftDelay</th>\n",
              "    </tr>\n",
              "  </thead>\n",
              "  <tbody>\n",
              "    <tr>\n",
              "      <th>0</th>\n",
              "      <td>2008</td>\n",
              "      <td>1</td>\n",
              "      <td>3</td>\n",
              "      <td>4</td>\n",
              "      <td>NaN</td>\n",
              "      <td>700</td>\n",
              "      <td>NaN</td>\n",
              "      <td>830</td>\n",
              "      <td>WN</td>\n",
              "      <td>126</td>\n",
              "      <td>...</td>\n",
              "      <td>NaN</td>\n",
              "      <td>NaN</td>\n",
              "      <td>1</td>\n",
              "      <td>A</td>\n",
              "      <td>0</td>\n",
              "      <td>NaN</td>\n",
              "      <td>NaN</td>\n",
              "      <td>NaN</td>\n",
              "      <td>NaN</td>\n",
              "      <td>NaN</td>\n",
              "    </tr>\n",
              "    <tr>\n",
              "      <th>1</th>\n",
              "      <td>2008</td>\n",
              "      <td>1</td>\n",
              "      <td>3</td>\n",
              "      <td>4</td>\n",
              "      <td>1704.0</td>\n",
              "      <td>1645</td>\n",
              "      <td>1929.0</td>\n",
              "      <td>1930</td>\n",
              "      <td>WN</td>\n",
              "      <td>340</td>\n",
              "      <td>...</td>\n",
              "      <td>7.0</td>\n",
              "      <td>9.0</td>\n",
              "      <td>0</td>\n",
              "      <td>NaN</td>\n",
              "      <td>0</td>\n",
              "      <td>NaN</td>\n",
              "      <td>NaN</td>\n",
              "      <td>NaN</td>\n",
              "      <td>NaN</td>\n",
              "      <td>NaN</td>\n",
              "    </tr>\n",
              "    <tr>\n",
              "      <th>2</th>\n",
              "      <td>2008</td>\n",
              "      <td>1</td>\n",
              "      <td>3</td>\n",
              "      <td>4</td>\n",
              "      <td>1143.0</td>\n",
              "      <td>1035</td>\n",
              "      <td>1621.0</td>\n",
              "      <td>1505</td>\n",
              "      <td>WN</td>\n",
              "      <td>574</td>\n",
              "      <td>...</td>\n",
              "      <td>3.0</td>\n",
              "      <td>29.0</td>\n",
              "      <td>0</td>\n",
              "      <td>NaN</td>\n",
              "      <td>0</td>\n",
              "      <td>0.0</td>\n",
              "      <td>0.0</td>\n",
              "      <td>14.0</td>\n",
              "      <td>0.0</td>\n",
              "      <td>62.0</td>\n",
              "    </tr>\n",
              "    <tr>\n",
              "      <th>3</th>\n",
              "      <td>2008</td>\n",
              "      <td>1</td>\n",
              "      <td>3</td>\n",
              "      <td>4</td>\n",
              "      <td>1419.0</td>\n",
              "      <td>1400</td>\n",
              "      <td>1534.0</td>\n",
              "      <td>1515</td>\n",
              "      <td>WN</td>\n",
              "      <td>420</td>\n",
              "      <td>...</td>\n",
              "      <td>4.0</td>\n",
              "      <td>6.0</td>\n",
              "      <td>0</td>\n",
              "      <td>NaN</td>\n",
              "      <td>0</td>\n",
              "      <td>12.0</td>\n",
              "      <td>0.0</td>\n",
              "      <td>0.0</td>\n",
              "      <td>0.0</td>\n",
              "      <td>7.0</td>\n",
              "    </tr>\n",
              "    <tr>\n",
              "      <th>4</th>\n",
              "      <td>2008</td>\n",
              "      <td>1</td>\n",
              "      <td>3</td>\n",
              "      <td>4</td>\n",
              "      <td>1825.0</td>\n",
              "      <td>1745</td>\n",
              "      <td>1921.0</td>\n",
              "      <td>1850</td>\n",
              "      <td>WN</td>\n",
              "      <td>555</td>\n",
              "      <td>...</td>\n",
              "      <td>4.0</td>\n",
              "      <td>5.0</td>\n",
              "      <td>0</td>\n",
              "      <td>NaN</td>\n",
              "      <td>0</td>\n",
              "      <td>4.0</td>\n",
              "      <td>0.0</td>\n",
              "      <td>0.0</td>\n",
              "      <td>0.0</td>\n",
              "      <td>27.0</td>\n",
              "    </tr>\n",
              "  </tbody>\n",
              "</table>\n",
              "<p>5 rows × 29 columns</p>\n",
              "</div>\n",
              "      <button class=\"colab-df-convert\" onclick=\"convertToInteractive('df-8210aeef-864c-4511-aa5e-92da5857f86f')\"\n",
              "              title=\"Convert this dataframe to an interactive table.\"\n",
              "              style=\"display:none;\">\n",
              "        \n",
              "  <svg xmlns=\"http://www.w3.org/2000/svg\" height=\"24px\"viewBox=\"0 0 24 24\"\n",
              "       width=\"24px\">\n",
              "    <path d=\"M0 0h24v24H0V0z\" fill=\"none\"/>\n",
              "    <path d=\"M18.56 5.44l.94 2.06.94-2.06 2.06-.94-2.06-.94-.94-2.06-.94 2.06-2.06.94zm-11 1L8.5 8.5l.94-2.06 2.06-.94-2.06-.94L8.5 2.5l-.94 2.06-2.06.94zm10 10l.94 2.06.94-2.06 2.06-.94-2.06-.94-.94-2.06-.94 2.06-2.06.94z\"/><path d=\"M17.41 7.96l-1.37-1.37c-.4-.4-.92-.59-1.43-.59-.52 0-1.04.2-1.43.59L10.3 9.45l-7.72 7.72c-.78.78-.78 2.05 0 2.83L4 21.41c.39.39.9.59 1.41.59.51 0 1.02-.2 1.41-.59l7.78-7.78 2.81-2.81c.8-.78.8-2.07 0-2.86zM5.41 20L4 18.59l7.72-7.72 1.47 1.35L5.41 20z\"/>\n",
              "  </svg>\n",
              "      </button>\n",
              "      \n",
              "  <style>\n",
              "    .colab-df-container {\n",
              "      display:flex;\n",
              "      flex-wrap:wrap;\n",
              "      gap: 12px;\n",
              "    }\n",
              "\n",
              "    .colab-df-convert {\n",
              "      background-color: #E8F0FE;\n",
              "      border: none;\n",
              "      border-radius: 50%;\n",
              "      cursor: pointer;\n",
              "      display: none;\n",
              "      fill: #1967D2;\n",
              "      height: 32px;\n",
              "      padding: 0 0 0 0;\n",
              "      width: 32px;\n",
              "    }\n",
              "\n",
              "    .colab-df-convert:hover {\n",
              "      background-color: #E2EBFA;\n",
              "      box-shadow: 0px 1px 2px rgba(60, 64, 67, 0.3), 0px 1px 3px 1px rgba(60, 64, 67, 0.15);\n",
              "      fill: #174EA6;\n",
              "    }\n",
              "\n",
              "    [theme=dark] .colab-df-convert {\n",
              "      background-color: #3B4455;\n",
              "      fill: #D2E3FC;\n",
              "    }\n",
              "\n",
              "    [theme=dark] .colab-df-convert:hover {\n",
              "      background-color: #434B5C;\n",
              "      box-shadow: 0px 1px 3px 1px rgba(0, 0, 0, 0.15);\n",
              "      filter: drop-shadow(0px 1px 2px rgba(0, 0, 0, 0.3));\n",
              "      fill: #FFFFFF;\n",
              "    }\n",
              "  </style>\n",
              "\n",
              "      <script>\n",
              "        const buttonEl =\n",
              "          document.querySelector('#df-8210aeef-864c-4511-aa5e-92da5857f86f button.colab-df-convert');\n",
              "        buttonEl.style.display =\n",
              "          google.colab.kernel.accessAllowed ? 'block' : 'none';\n",
              "\n",
              "        async function convertToInteractive(key) {\n",
              "          const element = document.querySelector('#df-8210aeef-864c-4511-aa5e-92da5857f86f');\n",
              "          const dataTable =\n",
              "            await google.colab.kernel.invokeFunction('convertToInteractive',\n",
              "                                                     [key], {});\n",
              "          if (!dataTable) return;\n",
              "\n",
              "          const docLinkHtml = 'Like what you see? Visit the ' +\n",
              "            '<a target=\"_blank\" href=https://colab.research.google.com/notebooks/data_table.ipynb>data table notebook</a>'\n",
              "            + ' to learn more about interactive tables.';\n",
              "          element.innerHTML = '';\n",
              "          dataTable['output_type'] = 'display_data';\n",
              "          await google.colab.output.renderOutput(dataTable, element);\n",
              "          const docLink = document.createElement('div');\n",
              "          docLink.innerHTML = docLinkHtml;\n",
              "          element.appendChild(docLink);\n",
              "        }\n",
              "      </script>\n",
              "    </div>\n",
              "  </div>\n",
              "  "
            ]
          },
          "metadata": {},
          "execution_count": 6
        }
      ]
    },
    {
      "cell_type": "code",
      "source": [
        "raw_pd.info()"
      ],
      "metadata": {
        "colab": {
          "base_uri": "https://localhost:8080/"
        },
        "id": "VolKWcAB0oNN",
        "outputId": "285b0be4-d06d-4f3f-a9ec-9c536cab5651"
      },
      "execution_count": 7,
      "outputs": [
        {
          "output_type": "stream",
          "name": "stdout",
          "text": [
            "<class 'pandas.core.frame.DataFrame'>\n",
            "RangeIndex: 70096 entries, 0 to 70095\n",
            "Data columns (total 29 columns):\n",
            " #   Column             Non-Null Count  Dtype  \n",
            "---  ------             --------------  -----  \n",
            " 0   Year               70096 non-null  int64  \n",
            " 1   Month              70096 non-null  int64  \n",
            " 2   DayofMonth         70096 non-null  int64  \n",
            " 3   DayOfWeek          70096 non-null  int64  \n",
            " 4   DepTime            68726 non-null  float64\n",
            " 5   CRSDepTime         70096 non-null  int64  \n",
            " 6   ArrTime            68564 non-null  float64\n",
            " 7   CRSArrTime         70096 non-null  int64  \n",
            " 8   UniqueCarrier      70096 non-null  object \n",
            " 9   FlightNum          70096 non-null  int64  \n",
            " 10  TailNum            69249 non-null  object \n",
            " 11  ActualElapsedTime  68539 non-null  float64\n",
            " 12  CRSElapsedTime     70085 non-null  float64\n",
            " 13  AirTime            68539 non-null  float64\n",
            " 14  ArrDelay           68539 non-null  float64\n",
            " 15  DepDelay           68726 non-null  float64\n",
            " 16  Origin             70096 non-null  object \n",
            " 17  Dest               70096 non-null  object \n",
            " 18  Distance           70096 non-null  int64  \n",
            " 19  TaxiIn             68564 non-null  float64\n",
            " 20  TaxiOut            68716 non-null  float64\n",
            " 21  Cancelled          70096 non-null  int64  \n",
            " 22  CancellationCode   1385 non-null   object \n",
            " 23  Diverted           70096 non-null  int64  \n",
            " 24  CarrierDelay       15334 non-null  float64\n",
            " 25  WeatherDelay       15334 non-null  float64\n",
            " 26  NASDelay           15334 non-null  float64\n",
            " 27  SecurityDelay      15334 non-null  float64\n",
            " 28  LateAircraftDelay  15334 non-null  float64\n",
            "dtypes: float64(14), int64(10), object(5)\n",
            "memory usage: 15.5+ MB\n"
          ]
        }
      ]
    },
    {
      "cell_type": "code",
      "source": [
        "def t_timeperiod(origin):\n",
        "    if origin is None:\n",
        "        period = None\n",
        "    elif origin > 0 and origin < 600:\n",
        "        period = '00.01-05.59'\n",
        "    elif origin >= 600 and origin <=1200:\n",
        "        period = '06.00-11.59'\n",
        "    elif origin >= 1200 and origin <= 1800:\n",
        "        period = '12.00-17.59'\n",
        "    elif origin >= 1800 and origin <= 2400:\n",
        "        period = '18.00-24.00'\n",
        "    else:\n",
        "        period = 'NA'\n",
        "    return period"
      ],
      "metadata": {
        "id": "NIAFGQAqYM0x"
      },
      "execution_count": 8,
      "outputs": []
    },
    {
      "cell_type": "code",
      "source": [
        "raw_pd['DepTime'] = raw_pd['DepTime'].apply(lambda x:t_timeperiod(x))"
      ],
      "metadata": {
        "id": "4ubIKjIqYMq4"
      },
      "execution_count": 9,
      "outputs": []
    },
    {
      "cell_type": "code",
      "source": [
        "max_distance = raw_pd['Distance'].max()\n",
        "min_distance = raw_pd['Distance'].min()"
      ],
      "metadata": {
        "id": "XWFRqqx0afjL"
      },
      "execution_count": 10,
      "outputs": []
    },
    {
      "cell_type": "code",
      "source": [
        "max_ArrDelay = raw_pd['ArrDelay'].max()\n",
        "min_ArrDelay = raw_pd['ArrDelay'].min()"
      ],
      "metadata": {
        "id": "kVNRRIILcDU7"
      },
      "execution_count": 11,
      "outputs": []
    },
    {
      "cell_type": "code",
      "source": [
        "def t_normalized_distance(origin):\n",
        "    if origin is None:\n",
        "        return None\n",
        "    else:\n",
        "        return ((origin-min_distance)/(max_distance-min_distance))"
      ],
      "metadata": {
        "id": "LhbmM1q2cDSE"
      },
      "execution_count": 12,
      "outputs": []
    },
    {
      "cell_type": "code",
      "source": [
        "def t_normalized_ArrDelay(origin):\n",
        "    if origin is None:\n",
        "        return None\n",
        "    else:\n",
        "        return ((origin-min_ArrDelay)/(max_ArrDelay-min_ArrDelay))"
      ],
      "metadata": {
        "id": "kij8fse_cDPO"
      },
      "execution_count": 13,
      "outputs": []
    },
    {
      "cell_type": "code",
      "source": [
        "raw_pd['Distance'] = raw_pd['Distance'].apply(lambda x:t_normalized_distance(x))"
      ],
      "metadata": {
        "id": "Zj2TrU6acDMV"
      },
      "execution_count": 14,
      "outputs": []
    },
    {
      "cell_type": "code",
      "source": [
        "raw_pd['ArrDelay'] = raw_pd['ArrDelay'].apply(lambda x:t_normalized_ArrDelay(x))"
      ],
      "metadata": {
        "id": "BHL5SbdEcDJv"
      },
      "execution_count": 15,
      "outputs": []
    },
    {
      "cell_type": "code",
      "source": [],
      "metadata": {
        "id": "ujMCi9kCcDHI"
      },
      "execution_count": 15,
      "outputs": []
    },
    {
      "cell_type": "code",
      "source": [],
      "metadata": {
        "id": "fQm_LajycDEA"
      },
      "execution_count": 15,
      "outputs": []
    },
    {
      "cell_type": "code",
      "source": [],
      "metadata": {
        "id": "0U2pbBJgcDBa"
      },
      "execution_count": 15,
      "outputs": []
    },
    {
      "cell_type": "code",
      "source": [],
      "metadata": {
        "id": "XPQyDdxicC-S"
      },
      "execution_count": 15,
      "outputs": []
    },
    {
      "cell_type": "code",
      "source": [],
      "metadata": {
        "id": "CZzfwdCgcC7s"
      },
      "execution_count": 15,
      "outputs": []
    },
    {
      "cell_type": "code",
      "source": [],
      "metadata": {
        "id": "GnYJSUARcCwg"
      },
      "execution_count": 15,
      "outputs": []
    },
    {
      "cell_type": "code",
      "source": [
        "features_pd = raw_pd[['UniqueCarrier','Origin','Dest',\\\n",
        "        'DepTime','TaxiOut','TaxiIn','DepDelay',\\\n",
        "        'DayOfWeek','Distance','ArrDelay']]"
      ],
      "metadata": {
        "id": "y46Ue7iZXb74"
      },
      "execution_count": 16,
      "outputs": []
    },
    {
      "cell_type": "code",
      "source": [
        "final_pd = features_pd.dropna()"
      ],
      "metadata": {
        "id": "wouBuA79Xb2Y"
      },
      "execution_count": 17,
      "outputs": []
    },
    {
      "cell_type": "code",
      "source": [
        "final_pd.count()"
      ],
      "metadata": {
        "id": "OvVzUT9OXbyv",
        "colab": {
          "base_uri": "https://localhost:8080/"
        },
        "outputId": "3565ad19-b984-4bfa-b05c-92aa2e6d6e45"
      },
      "execution_count": 18,
      "outputs": [
        {
          "output_type": "execute_result",
          "data": {
            "text/plain": [
              "UniqueCarrier    68539\n",
              "Origin           68539\n",
              "Dest             68539\n",
              "DepTime          68539\n",
              "TaxiOut          68539\n",
              "TaxiIn           68539\n",
              "DepDelay         68539\n",
              "DayOfWeek        68539\n",
              "Distance         68539\n",
              "ArrDelay         68539\n",
              "dtype: int64"
            ]
          },
          "metadata": {},
          "execution_count": 18
        }
      ]
    },
    {
      "cell_type": "code",
      "source": [
        "features_pd.head(20)"
      ],
      "metadata": {
        "id": "TtkktQW2Xbv5",
        "colab": {
          "base_uri": "https://localhost:8080/",
          "height": 677
        },
        "outputId": "02ed7ce1-b888-46ed-cee7-3c8c574c62c5"
      },
      "execution_count": 19,
      "outputs": [
        {
          "output_type": "execute_result",
          "data": {
            "text/plain": [
              "   UniqueCarrier Origin Dest      DepTime  TaxiOut  TaxiIn  DepDelay  \\\n",
              "0             WN    LAS  OAK           NA      NaN     NaN       NaN   \n",
              "1             WN    LAS  SEA  12.00-17.59      9.0     7.0      19.0   \n",
              "2             WN    LAS  TUL  06.00-11.59     29.0     3.0      68.0   \n",
              "3             WN    LAX  OAK  12.00-17.59      6.0     4.0      19.0   \n",
              "4             WN    LBB  AUS  18.00-24.00      5.0     4.0      40.0   \n",
              "5             WN    MDW  BUF  18.00-24.00     16.0     3.0      62.0   \n",
              "6             WN    MDW  BWI  06.00-11.59     10.0     3.0      14.0   \n",
              "7             WN    MDW  MCI  06.00-11.59      6.0     5.0       2.0   \n",
              "8             WN    MDW  SFO  12.00-17.59     25.0     4.0     209.0   \n",
              "9             WN    OAK  SAN  12.00-17.59     10.0     4.0      51.0   \n",
              "10            WN    ONT  PHX  06.00-11.59      5.0     3.0       3.0   \n",
              "11            WN    PDX  OAK  18.00-24.00      7.0     3.0      89.0   \n",
              "12            WN    PHX  LAS  06.00-11.59      8.0     4.0      12.0   \n",
              "13            WN    PHX  MDW  06.00-11.59      9.0     4.0       3.0   \n",
              "14            WN    PHX  SAN  06.00-11.59     10.0     2.0      11.0   \n",
              "15            WN    PVD  PHL  06.00-11.59     11.0     4.0      -4.0   \n",
              "16            WN    RDU  PHX  06.00-11.59      7.0     6.0       9.0   \n",
              "17            WN    SAN  AUS  06.00-11.59     11.0     4.0       1.0   \n",
              "18            WN    SAN  MDW  06.00-11.59     10.0     8.0       7.0   \n",
              "19            WN    SDF  MCO  12.00-17.59      6.0     5.0      26.0   \n",
              "\n",
              "    DayOfWeek  Distance  ArrDelay  \n",
              "0           4  0.076252       NaN  \n",
              "1           4  0.169337  0.052960  \n",
              "2           4  0.211925  0.112928  \n",
              "3           4  0.062056  0.068536  \n",
              "4           4  0.062868  0.077882  \n",
              "5           4  0.088623  0.105140  \n",
              "6           4  0.117623  0.061526  \n",
              "7           4  0.075847  0.047508  \n",
              "8           4  0.369905  0.221184  \n",
              "9           4  0.084161  0.088006  \n",
              "10          4  0.059623  0.043614  \n",
              "11          4  0.103833  0.125389  \n",
              "12          4  0.045630  0.059969  \n",
              "13          4  0.286554  0.043614  \n",
              "14          4  0.055364  0.058411  \n",
              "15          4  0.041979  0.041277  \n",
              "16          4  0.377205  0.039720  \n",
              "17          4  0.229771  0.045171  \n",
              "18          4  0.344149  0.051402  \n",
              "19          4  0.139323  0.059190  "
            ],
            "text/html": [
              "\n",
              "  <div id=\"df-6015bd88-7c19-471d-878b-23811e795104\">\n",
              "    <div class=\"colab-df-container\">\n",
              "      <div>\n",
              "<style scoped>\n",
              "    .dataframe tbody tr th:only-of-type {\n",
              "        vertical-align: middle;\n",
              "    }\n",
              "\n",
              "    .dataframe tbody tr th {\n",
              "        vertical-align: top;\n",
              "    }\n",
              "\n",
              "    .dataframe thead th {\n",
              "        text-align: right;\n",
              "    }\n",
              "</style>\n",
              "<table border=\"1\" class=\"dataframe\">\n",
              "  <thead>\n",
              "    <tr style=\"text-align: right;\">\n",
              "      <th></th>\n",
              "      <th>UniqueCarrier</th>\n",
              "      <th>Origin</th>\n",
              "      <th>Dest</th>\n",
              "      <th>DepTime</th>\n",
              "      <th>TaxiOut</th>\n",
              "      <th>TaxiIn</th>\n",
              "      <th>DepDelay</th>\n",
              "      <th>DayOfWeek</th>\n",
              "      <th>Distance</th>\n",
              "      <th>ArrDelay</th>\n",
              "    </tr>\n",
              "  </thead>\n",
              "  <tbody>\n",
              "    <tr>\n",
              "      <th>0</th>\n",
              "      <td>WN</td>\n",
              "      <td>LAS</td>\n",
              "      <td>OAK</td>\n",
              "      <td>NA</td>\n",
              "      <td>NaN</td>\n",
              "      <td>NaN</td>\n",
              "      <td>NaN</td>\n",
              "      <td>4</td>\n",
              "      <td>0.076252</td>\n",
              "      <td>NaN</td>\n",
              "    </tr>\n",
              "    <tr>\n",
              "      <th>1</th>\n",
              "      <td>WN</td>\n",
              "      <td>LAS</td>\n",
              "      <td>SEA</td>\n",
              "      <td>12.00-17.59</td>\n",
              "      <td>9.0</td>\n",
              "      <td>7.0</td>\n",
              "      <td>19.0</td>\n",
              "      <td>4</td>\n",
              "      <td>0.169337</td>\n",
              "      <td>0.052960</td>\n",
              "    </tr>\n",
              "    <tr>\n",
              "      <th>2</th>\n",
              "      <td>WN</td>\n",
              "      <td>LAS</td>\n",
              "      <td>TUL</td>\n",
              "      <td>06.00-11.59</td>\n",
              "      <td>29.0</td>\n",
              "      <td>3.0</td>\n",
              "      <td>68.0</td>\n",
              "      <td>4</td>\n",
              "      <td>0.211925</td>\n",
              "      <td>0.112928</td>\n",
              "    </tr>\n",
              "    <tr>\n",
              "      <th>3</th>\n",
              "      <td>WN</td>\n",
              "      <td>LAX</td>\n",
              "      <td>OAK</td>\n",
              "      <td>12.00-17.59</td>\n",
              "      <td>6.0</td>\n",
              "      <td>4.0</td>\n",
              "      <td>19.0</td>\n",
              "      <td>4</td>\n",
              "      <td>0.062056</td>\n",
              "      <td>0.068536</td>\n",
              "    </tr>\n",
              "    <tr>\n",
              "      <th>4</th>\n",
              "      <td>WN</td>\n",
              "      <td>LBB</td>\n",
              "      <td>AUS</td>\n",
              "      <td>18.00-24.00</td>\n",
              "      <td>5.0</td>\n",
              "      <td>4.0</td>\n",
              "      <td>40.0</td>\n",
              "      <td>4</td>\n",
              "      <td>0.062868</td>\n",
              "      <td>0.077882</td>\n",
              "    </tr>\n",
              "    <tr>\n",
              "      <th>5</th>\n",
              "      <td>WN</td>\n",
              "      <td>MDW</td>\n",
              "      <td>BUF</td>\n",
              "      <td>18.00-24.00</td>\n",
              "      <td>16.0</td>\n",
              "      <td>3.0</td>\n",
              "      <td>62.0</td>\n",
              "      <td>4</td>\n",
              "      <td>0.088623</td>\n",
              "      <td>0.105140</td>\n",
              "    </tr>\n",
              "    <tr>\n",
              "      <th>6</th>\n",
              "      <td>WN</td>\n",
              "      <td>MDW</td>\n",
              "      <td>BWI</td>\n",
              "      <td>06.00-11.59</td>\n",
              "      <td>10.0</td>\n",
              "      <td>3.0</td>\n",
              "      <td>14.0</td>\n",
              "      <td>4</td>\n",
              "      <td>0.117623</td>\n",
              "      <td>0.061526</td>\n",
              "    </tr>\n",
              "    <tr>\n",
              "      <th>7</th>\n",
              "      <td>WN</td>\n",
              "      <td>MDW</td>\n",
              "      <td>MCI</td>\n",
              "      <td>06.00-11.59</td>\n",
              "      <td>6.0</td>\n",
              "      <td>5.0</td>\n",
              "      <td>2.0</td>\n",
              "      <td>4</td>\n",
              "      <td>0.075847</td>\n",
              "      <td>0.047508</td>\n",
              "    </tr>\n",
              "    <tr>\n",
              "      <th>8</th>\n",
              "      <td>WN</td>\n",
              "      <td>MDW</td>\n",
              "      <td>SFO</td>\n",
              "      <td>12.00-17.59</td>\n",
              "      <td>25.0</td>\n",
              "      <td>4.0</td>\n",
              "      <td>209.0</td>\n",
              "      <td>4</td>\n",
              "      <td>0.369905</td>\n",
              "      <td>0.221184</td>\n",
              "    </tr>\n",
              "    <tr>\n",
              "      <th>9</th>\n",
              "      <td>WN</td>\n",
              "      <td>OAK</td>\n",
              "      <td>SAN</td>\n",
              "      <td>12.00-17.59</td>\n",
              "      <td>10.0</td>\n",
              "      <td>4.0</td>\n",
              "      <td>51.0</td>\n",
              "      <td>4</td>\n",
              "      <td>0.084161</td>\n",
              "      <td>0.088006</td>\n",
              "    </tr>\n",
              "    <tr>\n",
              "      <th>10</th>\n",
              "      <td>WN</td>\n",
              "      <td>ONT</td>\n",
              "      <td>PHX</td>\n",
              "      <td>06.00-11.59</td>\n",
              "      <td>5.0</td>\n",
              "      <td>3.0</td>\n",
              "      <td>3.0</td>\n",
              "      <td>4</td>\n",
              "      <td>0.059623</td>\n",
              "      <td>0.043614</td>\n",
              "    </tr>\n",
              "    <tr>\n",
              "      <th>11</th>\n",
              "      <td>WN</td>\n",
              "      <td>PDX</td>\n",
              "      <td>OAK</td>\n",
              "      <td>18.00-24.00</td>\n",
              "      <td>7.0</td>\n",
              "      <td>3.0</td>\n",
              "      <td>89.0</td>\n",
              "      <td>4</td>\n",
              "      <td>0.103833</td>\n",
              "      <td>0.125389</td>\n",
              "    </tr>\n",
              "    <tr>\n",
              "      <th>12</th>\n",
              "      <td>WN</td>\n",
              "      <td>PHX</td>\n",
              "      <td>LAS</td>\n",
              "      <td>06.00-11.59</td>\n",
              "      <td>8.0</td>\n",
              "      <td>4.0</td>\n",
              "      <td>12.0</td>\n",
              "      <td>4</td>\n",
              "      <td>0.045630</td>\n",
              "      <td>0.059969</td>\n",
              "    </tr>\n",
              "    <tr>\n",
              "      <th>13</th>\n",
              "      <td>WN</td>\n",
              "      <td>PHX</td>\n",
              "      <td>MDW</td>\n",
              "      <td>06.00-11.59</td>\n",
              "      <td>9.0</td>\n",
              "      <td>4.0</td>\n",
              "      <td>3.0</td>\n",
              "      <td>4</td>\n",
              "      <td>0.286554</td>\n",
              "      <td>0.043614</td>\n",
              "    </tr>\n",
              "    <tr>\n",
              "      <th>14</th>\n",
              "      <td>WN</td>\n",
              "      <td>PHX</td>\n",
              "      <td>SAN</td>\n",
              "      <td>06.00-11.59</td>\n",
              "      <td>10.0</td>\n",
              "      <td>2.0</td>\n",
              "      <td>11.0</td>\n",
              "      <td>4</td>\n",
              "      <td>0.055364</td>\n",
              "      <td>0.058411</td>\n",
              "    </tr>\n",
              "    <tr>\n",
              "      <th>15</th>\n",
              "      <td>WN</td>\n",
              "      <td>PVD</td>\n",
              "      <td>PHL</td>\n",
              "      <td>06.00-11.59</td>\n",
              "      <td>11.0</td>\n",
              "      <td>4.0</td>\n",
              "      <td>-4.0</td>\n",
              "      <td>4</td>\n",
              "      <td>0.041979</td>\n",
              "      <td>0.041277</td>\n",
              "    </tr>\n",
              "    <tr>\n",
              "      <th>16</th>\n",
              "      <td>WN</td>\n",
              "      <td>RDU</td>\n",
              "      <td>PHX</td>\n",
              "      <td>06.00-11.59</td>\n",
              "      <td>7.0</td>\n",
              "      <td>6.0</td>\n",
              "      <td>9.0</td>\n",
              "      <td>4</td>\n",
              "      <td>0.377205</td>\n",
              "      <td>0.039720</td>\n",
              "    </tr>\n",
              "    <tr>\n",
              "      <th>17</th>\n",
              "      <td>WN</td>\n",
              "      <td>SAN</td>\n",
              "      <td>AUS</td>\n",
              "      <td>06.00-11.59</td>\n",
              "      <td>11.0</td>\n",
              "      <td>4.0</td>\n",
              "      <td>1.0</td>\n",
              "      <td>4</td>\n",
              "      <td>0.229771</td>\n",
              "      <td>0.045171</td>\n",
              "    </tr>\n",
              "    <tr>\n",
              "      <th>18</th>\n",
              "      <td>WN</td>\n",
              "      <td>SAN</td>\n",
              "      <td>MDW</td>\n",
              "      <td>06.00-11.59</td>\n",
              "      <td>10.0</td>\n",
              "      <td>8.0</td>\n",
              "      <td>7.0</td>\n",
              "      <td>4</td>\n",
              "      <td>0.344149</td>\n",
              "      <td>0.051402</td>\n",
              "    </tr>\n",
              "    <tr>\n",
              "      <th>19</th>\n",
              "      <td>WN</td>\n",
              "      <td>SDF</td>\n",
              "      <td>MCO</td>\n",
              "      <td>12.00-17.59</td>\n",
              "      <td>6.0</td>\n",
              "      <td>5.0</td>\n",
              "      <td>26.0</td>\n",
              "      <td>4</td>\n",
              "      <td>0.139323</td>\n",
              "      <td>0.059190</td>\n",
              "    </tr>\n",
              "  </tbody>\n",
              "</table>\n",
              "</div>\n",
              "      <button class=\"colab-df-convert\" onclick=\"convertToInteractive('df-6015bd88-7c19-471d-878b-23811e795104')\"\n",
              "              title=\"Convert this dataframe to an interactive table.\"\n",
              "              style=\"display:none;\">\n",
              "        \n",
              "  <svg xmlns=\"http://www.w3.org/2000/svg\" height=\"24px\"viewBox=\"0 0 24 24\"\n",
              "       width=\"24px\">\n",
              "    <path d=\"M0 0h24v24H0V0z\" fill=\"none\"/>\n",
              "    <path d=\"M18.56 5.44l.94 2.06.94-2.06 2.06-.94-2.06-.94-.94-2.06-.94 2.06-2.06.94zm-11 1L8.5 8.5l.94-2.06 2.06-.94-2.06-.94L8.5 2.5l-.94 2.06-2.06.94zm10 10l.94 2.06.94-2.06 2.06-.94-2.06-.94-.94-2.06-.94 2.06-2.06.94z\"/><path d=\"M17.41 7.96l-1.37-1.37c-.4-.4-.92-.59-1.43-.59-.52 0-1.04.2-1.43.59L10.3 9.45l-7.72 7.72c-.78.78-.78 2.05 0 2.83L4 21.41c.39.39.9.59 1.41.59.51 0 1.02-.2 1.41-.59l7.78-7.78 2.81-2.81c.8-.78.8-2.07 0-2.86zM5.41 20L4 18.59l7.72-7.72 1.47 1.35L5.41 20z\"/>\n",
              "  </svg>\n",
              "      </button>\n",
              "      \n",
              "  <style>\n",
              "    .colab-df-container {\n",
              "      display:flex;\n",
              "      flex-wrap:wrap;\n",
              "      gap: 12px;\n",
              "    }\n",
              "\n",
              "    .colab-df-convert {\n",
              "      background-color: #E8F0FE;\n",
              "      border: none;\n",
              "      border-radius: 50%;\n",
              "      cursor: pointer;\n",
              "      display: none;\n",
              "      fill: #1967D2;\n",
              "      height: 32px;\n",
              "      padding: 0 0 0 0;\n",
              "      width: 32px;\n",
              "    }\n",
              "\n",
              "    .colab-df-convert:hover {\n",
              "      background-color: #E2EBFA;\n",
              "      box-shadow: 0px 1px 2px rgba(60, 64, 67, 0.3), 0px 1px 3px 1px rgba(60, 64, 67, 0.15);\n",
              "      fill: #174EA6;\n",
              "    }\n",
              "\n",
              "    [theme=dark] .colab-df-convert {\n",
              "      background-color: #3B4455;\n",
              "      fill: #D2E3FC;\n",
              "    }\n",
              "\n",
              "    [theme=dark] .colab-df-convert:hover {\n",
              "      background-color: #434B5C;\n",
              "      box-shadow: 0px 1px 3px 1px rgba(0, 0, 0, 0.15);\n",
              "      filter: drop-shadow(0px 1px 2px rgba(0, 0, 0, 0.3));\n",
              "      fill: #FFFFFF;\n",
              "    }\n",
              "  </style>\n",
              "\n",
              "      <script>\n",
              "        const buttonEl =\n",
              "          document.querySelector('#df-6015bd88-7c19-471d-878b-23811e795104 button.colab-df-convert');\n",
              "        buttonEl.style.display =\n",
              "          google.colab.kernel.accessAllowed ? 'block' : 'none';\n",
              "\n",
              "        async function convertToInteractive(key) {\n",
              "          const element = document.querySelector('#df-6015bd88-7c19-471d-878b-23811e795104');\n",
              "          const dataTable =\n",
              "            await google.colab.kernel.invokeFunction('convertToInteractive',\n",
              "                                                     [key], {});\n",
              "          if (!dataTable) return;\n",
              "\n",
              "          const docLinkHtml = 'Like what you see? Visit the ' +\n",
              "            '<a target=\"_blank\" href=https://colab.research.google.com/notebooks/data_table.ipynb>data table notebook</a>'\n",
              "            + ' to learn more about interactive tables.';\n",
              "          element.innerHTML = '';\n",
              "          dataTable['output_type'] = 'display_data';\n",
              "          await google.colab.output.renderOutput(dataTable, element);\n",
              "          const docLink = document.createElement('div');\n",
              "          docLink.innerHTML = docLinkHtml;\n",
              "          element.appendChild(docLink);\n",
              "        }\n",
              "      </script>\n",
              "    </div>\n",
              "  </div>\n",
              "  "
            ]
          },
          "metadata": {},
          "execution_count": 19
        }
      ]
    },
    {
      "cell_type": "code",
      "source": [
        "\n",
        "\n",
        "#raw_pd.isnull().sum()\n",
        "#nullCol_series = raw_pd.isnull().sum()\n",
        "#notNull_list = list(nullCol_series[nullCol_series == 0].index)\n",
        "#notNull_list\n",
        "#requiredCol_list = ['TaxiIn','TaxiOut','ArrDelay']\n",
        "#selectedCol_list = notNull_list + requiredCol_list\n",
        "#noNull_pd = raw_pd.loc[:,selectedCol_list].dropna()\n",
        "#noNull_pd.isnull().sum()\n",
        "#noNull_pd.describe()\n",
        "#noNull_pd.info()"
      ],
      "metadata": {
        "id": "E7-RH6rdXbnS"
      },
      "execution_count": 20,
      "outputs": []
    },
    {
      "cell_type": "code",
      "source": [
        "#final_pd = noNull_pd"
      ],
      "metadata": {
        "id": "AaSTMmwxTFRl"
      },
      "execution_count": 21,
      "outputs": []
    },
    {
      "cell_type": "code",
      "source": [
        "import pandas as pd\n",
        "from seaborn import load_dataset\n",
        "import numpy as np\n",
        "\n",
        "from sklearn.model_selection import train_test_split\n",
        "from sklearn.base import BaseEstimator, TransformerMixin\n",
        "from sklearn.preprocessing import OneHotEncoder, MinMaxScaler\n",
        "from sklearn.impute import SimpleImputer\n",
        "from sklearn.pipeline import Pipeline, FeatureUnion\n",
        "from sklearn.compose import ColumnTransformer\n",
        "from sklearn.linear_model import LinearRegression"
      ],
      "metadata": {
        "id": "sC1Yq7VPSo3H"
      },
      "execution_count": 22,
      "outputs": []
    },
    {
      "cell_type": "code",
      "source": [
        "train_df = final_pd.sample(frac=0.8,random_state=123)"
      ],
      "metadata": {
        "id": "7-3UT4nJS_Zr"
      },
      "execution_count": 23,
      "outputs": []
    },
    {
      "cell_type": "code",
      "source": [
        "test_df = final_pd.drop(train_df.index)"
      ],
      "metadata": {
        "id": "S2Q1qB6ITRfU"
      },
      "execution_count": 24,
      "outputs": []
    },
    {
      "cell_type": "code",
      "source": [
        "train_df.count()"
      ],
      "metadata": {
        "colab": {
          "base_uri": "https://localhost:8080/"
        },
        "id": "hwrZxWwzTWjc",
        "outputId": "d6dffa17-06d4-4455-c5db-d4ef741061f4"
      },
      "execution_count": 25,
      "outputs": [
        {
          "output_type": "execute_result",
          "data": {
            "text/plain": [
              "UniqueCarrier    54831\n",
              "Origin           54831\n",
              "Dest             54831\n",
              "DepTime          54831\n",
              "TaxiOut          54831\n",
              "TaxiIn           54831\n",
              "DepDelay         54831\n",
              "DayOfWeek        54831\n",
              "Distance         54831\n",
              "ArrDelay         54831\n",
              "dtype: int64"
            ]
          },
          "metadata": {},
          "execution_count": 25
        }
      ]
    },
    {
      "cell_type": "code",
      "source": [
        "test_df.count()"
      ],
      "metadata": {
        "colab": {
          "base_uri": "https://localhost:8080/"
        },
        "id": "LPwBx3n9TZyz",
        "outputId": "7840932d-1e1d-4efa-ec0d-d4ac18509df4"
      },
      "execution_count": 26,
      "outputs": [
        {
          "output_type": "execute_result",
          "data": {
            "text/plain": [
              "UniqueCarrier    13708\n",
              "Origin           13708\n",
              "Dest             13708\n",
              "DepTime          13708\n",
              "TaxiOut          13708\n",
              "TaxiIn           13708\n",
              "DepDelay         13708\n",
              "DayOfWeek        13708\n",
              "Distance         13708\n",
              "ArrDelay         13708\n",
              "dtype: int64"
            ]
          },
          "metadata": {},
          "execution_count": 26
        }
      ]
    },
    {
      "cell_type": "code",
      "source": [
        "train_labels = train_df.filter(['ArrDelay'])\n",
        "train_df = train_df.loc[:, train_df.columns != 'ArrDelay']"
      ],
      "metadata": {
        "id": "p5EFPeS0Tb5_"
      },
      "execution_count": 27,
      "outputs": []
    },
    {
      "cell_type": "code",
      "source": [
        "type(train_labels)"
      ],
      "metadata": {
        "colab": {
          "base_uri": "https://localhost:8080/"
        },
        "id": "k97_KQlBUYME",
        "outputId": "72e235e4-baa2-4814-b163-6194d2d01662"
      },
      "execution_count": 28,
      "outputs": [
        {
          "output_type": "execute_result",
          "data": {
            "text/plain": [
              "pandas.core.frame.DataFrame"
            ]
          },
          "metadata": {},
          "execution_count": 28
        }
      ]
    },
    {
      "cell_type": "code",
      "source": [
        "test_labels = test_df.filter(['ArrDelay'])\n",
        "test_df = test_df.loc[:, test_df.columns != 'ArrDelay']"
      ],
      "metadata": {
        "id": "5T_HfZrWUaj3"
      },
      "execution_count": 29,
      "outputs": []
    },
    {
      "cell_type": "code",
      "source": [
        "X_train = train_df\n",
        "X_test = test_df\n",
        "y_train = train_labels\n",
        "y_test = test_labels"
      ],
      "metadata": {
        "id": "MQSm_cPWUqfJ"
      },
      "execution_count": 30,
      "outputs": []
    },
    {
      "cell_type": "code",
      "source": [
        "categorical = list(X_train.select_dtypes('object').columns)\n",
        "print(f\"Categorical columns are: {categorical}\")\n",
        "\n",
        "numerical = list(X_train.select_dtypes('number').columns)\n",
        "print(f\"Numerical columns are: {numerical}\")"
      ],
      "metadata": {
        "colab": {
          "base_uri": "https://localhost:8080/"
        },
        "id": "v_31Pv9oVQbm",
        "outputId": "a1548838-55c3-4866-aaaa-e1ae4e816d3c"
      },
      "execution_count": 31,
      "outputs": [
        {
          "output_type": "stream",
          "name": "stdout",
          "text": [
            "Categorical columns are: ['UniqueCarrier', 'Origin', 'Dest', 'DepTime']\n",
            "Numerical columns are: ['TaxiOut', 'TaxiIn', 'DepDelay', 'DayOfWeek', 'Distance']\n"
          ]
        }
      ]
    },
    {
      "cell_type": "code",
      "source": [],
      "metadata": {
        "id": "7rD4_wbdWp9x"
      },
      "execution_count": 31,
      "outputs": []
    },
    {
      "cell_type": "code",
      "source": [
        "from sklearn.tree import DecisionTreeClassifier, export_graphviz, DecisionTreeRegressor\n",
        "from sklearn import tree\n",
        "from sklearn.datasets import load_wine\n",
        "from sklearn.model_selection import train_test_split\n",
        "from sklearn import metrics"
      ],
      "metadata": {
        "id": "-B9QcYVMWqc1"
      },
      "execution_count": 32,
      "outputs": []
    },
    {
      "cell_type": "code",
      "source": [
        "# Define custom transformer\n",
        "class ColumnSelector(BaseEstimator, TransformerMixin):\n",
        "    \"\"\"Select only specified columns.\"\"\"\n",
        "    def __init__(self, columns):\n",
        "        self.columns = columns\n",
        "        \n",
        "    def fit(self, X, y=None):\n",
        "        return self\n",
        "    \n",
        "    def transform(self, X):\n",
        "        return X[self.columns]\n",
        "\n",
        "# Define categorical pipeline\n",
        "cat_pipe = Pipeline([('selector', ColumnSelector(categorical)),\n",
        "                     ('imputer', SimpleImputer(strategy='constant', fill_value='missing')),\n",
        "                     ('encoder', OneHotEncoder(handle_unknown='ignore', sparse=False))])\n",
        "\n",
        "# Define numerical pipeline\n",
        "num_pipe = Pipeline([('selector', ColumnSelector(numerical))\n",
        "                     #('imputer', SimpleImputer(strategy='median')),\n",
        "                     #('scaler', MinMaxScaler())\n",
        "                    ])\n",
        "\n",
        "# Combine categorical and numerical pipeline\n",
        "preprocessor = FeatureUnion(transformer_list=[('cat', cat_pipe),\n",
        "                                              ('num', num_pipe)])\n",
        "\n",
        "# Model Training\n",
        "pipe = Pipeline(steps=[('preprocessor', preprocessor),\n",
        "              ('model', DecisionTreeRegressor(max_depth=None))])\n",
        "pipeline_model = pipe.fit(X_train, y_train)"
      ],
      "metadata": {
        "id": "V0bGO402WyZl"
      },
      "execution_count": 33,
      "outputs": []
    },
    {
      "cell_type": "code",
      "source": [
        "from sklearn.metrics import explained_variance_score\n",
        "from sklearn.metrics import mean_squared_error\n",
        "from sklearn.metrics import r2_score\n",
        "\n",
        "predictions = pipeline_model.predict(X_test)\n",
        "print(\"\\t RMSE:\", mean_squared_error(y_test, predictions, squared=False))\n",
        "print(\"\\t R2 score:\", r2_score(y_test, predictions))"
      ],
      "metadata": {
        "colab": {
          "base_uri": "https://localhost:8080/"
        },
        "id": "-8N8WTs_jNpE",
        "outputId": "2a5a67c2-bdf4-41b9-ebbb-7f6887a60827"
      },
      "execution_count": 34,
      "outputs": [
        {
          "output_type": "stream",
          "name": "stdout",
          "text": [
            "\t RMSE: 0.011026030499800549\n",
            "\t R2 score: 0.8818548183278208\n"
          ]
        }
      ]
    },
    {
      "cell_type": "code",
      "source": [],
      "metadata": {
        "id": "qsFktFncjNlN"
      },
      "execution_count": 34,
      "outputs": []
    },
    {
      "cell_type": "code",
      "source": [],
      "metadata": {
        "id": "lLVWQI5ejNhQ"
      },
      "execution_count": 34,
      "outputs": []
    },
    {
      "cell_type": "code",
      "source": [],
      "metadata": {
        "id": "KUEE6tmojNda"
      },
      "execution_count": 34,
      "outputs": []
    },
    {
      "cell_type": "code",
      "source": [],
      "metadata": {
        "id": "vHWG30-CjNZd"
      },
      "execution_count": 34,
      "outputs": []
    },
    {
      "cell_type": "code",
      "source": [],
      "metadata": {
        "id": "z_WH-KXojNVu"
      },
      "execution_count": 34,
      "outputs": []
    },
    {
      "cell_type": "code",
      "source": [],
      "metadata": {
        "id": "Rb4rcooHjNSV"
      },
      "execution_count": 34,
      "outputs": []
    },
    {
      "cell_type": "code",
      "source": [],
      "metadata": {
        "id": "Lqkn0yLVjNK9"
      },
      "execution_count": 34,
      "outputs": []
    },
    {
      "cell_type": "code",
      "source": [],
      "metadata": {
        "id": "pdQ7uJm1jM35"
      },
      "execution_count": 34,
      "outputs": []
    }
  ]
}