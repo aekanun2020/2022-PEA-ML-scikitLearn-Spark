{
  "nbformat": 4,
  "nbformat_minor": 0,
  "metadata": {
    "colab": {
      "provenance": [],
      "collapsed_sections": [],
      "include_colab_link": true
    },
    "kernelspec": {
      "name": "python3",
      "display_name": "Python 3"
    },
    "language_info": {
      "name": "python"
    }
  },
  "cells": [
    {
      "cell_type": "markdown",
      "metadata": {
        "id": "view-in-github",
        "colab_type": "text"
      },
      "source": [
        "<a href=\"https://colab.research.google.com/github/aekanun2020/2022-PEA-ML-sklearn-Spark-/blob/main/K_sckitlearn_Regression_Pipeline_Estimation_of_Arrival_Delay.ipynb\" target=\"_parent\"><img src=\"https://colab.research.google.com/assets/colab-badge.svg\" alt=\"Open In Colab\"/></a>"
      ]
    },
    {
      "cell_type": "code",
      "source": [
        "import pandas as pd"
      ],
      "metadata": {
        "id": "TPW33Jyr0rDw"
      },
      "execution_count": 35,
      "outputs": []
    },
    {
      "cell_type": "code",
      "execution_count": 36,
      "metadata": {
        "colab": {
          "base_uri": "https://localhost:8080/"
        },
        "id": "dYaYQoX2zm6d",
        "outputId": "f5863c22-8532-4339-fe8a-42cc8a7e0821"
      },
      "outputs": [
        {
          "output_type": "stream",
          "name": "stdout",
          "text": [
            "--2022-11-08 21:40:20--  https://s3.amazonaws.com/imcbucket/data/flights/2008.csv\n",
            "Resolving s3.amazonaws.com (s3.amazonaws.com)... 54.231.203.176\n",
            "Connecting to s3.amazonaws.com (s3.amazonaws.com)|54.231.203.176|:443... connected.\n",
            "HTTP request sent, awaiting response... 200 OK\n",
            "Length: 689413344 (657M) [binary/octet-stream]\n",
            "Saving to: ‘2008.csv.1’\n",
            "\n",
            "2008.csv.1          100%[===================>] 657.48M  44.0MB/s    in 16s     \n",
            "\n",
            "2022-11-08 21:40:36 (41.7 MB/s) - ‘2008.csv.1’ saved [689413344/689413344]\n",
            "\n"
          ]
        }
      ],
      "source": [
        "! wget https://s3.amazonaws.com/imcbucket/data/flights/2008.csv"
      ]
    },
    {
      "cell_type": "code",
      "source": [
        "! wc -l 2008.csv"
      ],
      "metadata": {
        "colab": {
          "base_uri": "https://localhost:8080/"
        },
        "id": "TG2-Sj5az66M",
        "outputId": "689e9056-489a-460b-f89d-d62e069b2451"
      },
      "execution_count": 37,
      "outputs": [
        {
          "output_type": "stream",
          "name": "stdout",
          "text": [
            "7009729 2008.csv\n"
          ]
        }
      ]
    },
    {
      "cell_type": "code",
      "source": [
        "f = \"2008.csv\"\n",
        "num_lines = sum(1 for l in open(f))\n",
        "size = int(num_lines / 100)\n",
        "import random\n",
        "skip_idx = random.sample(range(1, num_lines), num_lines - size)\n",
        "raw_pd = pd.read_csv(f, skiprows=skip_idx)"
      ],
      "metadata": {
        "id": "xcyjgxjNZQN7"
      },
      "execution_count": 38,
      "outputs": []
    },
    {
      "cell_type": "code",
      "source": [
        "#raw_pd = pd.read_csv(\"2008.csv\")"
      ],
      "metadata": {
        "id": "P9K4zh1o0B7J"
      },
      "execution_count": 39,
      "outputs": []
    },
    {
      "cell_type": "code",
      "source": [
        "raw_pd.head(5)"
      ],
      "metadata": {
        "colab": {
          "base_uri": "https://localhost:8080/",
          "height": 300
        },
        "id": "JQn1hNnS0lTT",
        "outputId": "dea39599-8bb8-428b-ddca-81d2a905b60d"
      },
      "execution_count": 40,
      "outputs": [
        {
          "output_type": "execute_result",
          "data": {
            "text/plain": [
              "   Year  Month  DayofMonth  DayOfWeek  DepTime  CRSDepTime  ArrTime  \\\n",
              "0  2008      1           3          4   1229.0        1220   1342.0   \n",
              "1  2008      1           3          4   1424.0        1415   1941.0   \n",
              "2  2008      1           3          4    934.0         935   1453.0   \n",
              "3  2008      1           3          4    851.0         835    938.0   \n",
              "4  2008      1           3          4   1503.0        1425   1604.0   \n",
              "\n",
              "   CRSArrTime UniqueCarrier  FlightNum  ... TaxiIn  TaxiOut  Cancelled  \\\n",
              "0        1325            WN       2874  ...    2.0     24.0          0   \n",
              "1        1945            WN        396  ...    8.0     12.0          0   \n",
              "2        1505            WN        830  ...    6.0     16.0          0   \n",
              "3         930            WN       1670  ...    5.0      8.0          0   \n",
              "4        1530            WN       2357  ...    3.0     10.0          0   \n",
              "\n",
              "   CancellationCode  Diverted  CarrierDelay WeatherDelay NASDelay  \\\n",
              "0               NaN         0           9.0          0.0      8.0   \n",
              "1               NaN         0           NaN          NaN      NaN   \n",
              "2               NaN         0           NaN          NaN      NaN   \n",
              "3               NaN         0           NaN          NaN      NaN   \n",
              "4               NaN         0           9.0          0.0      0.0   \n",
              "\n",
              "   SecurityDelay  LateAircraftDelay  \n",
              "0            0.0                0.0  \n",
              "1            NaN                NaN  \n",
              "2            NaN                NaN  \n",
              "3            NaN                NaN  \n",
              "4            0.0               25.0  \n",
              "\n",
              "[5 rows x 29 columns]"
            ],
            "text/html": [
              "\n",
              "  <div id=\"df-a7130369-e18e-40c7-b34f-0ad425cbd5d2\">\n",
              "    <div class=\"colab-df-container\">\n",
              "      <div>\n",
              "<style scoped>\n",
              "    .dataframe tbody tr th:only-of-type {\n",
              "        vertical-align: middle;\n",
              "    }\n",
              "\n",
              "    .dataframe tbody tr th {\n",
              "        vertical-align: top;\n",
              "    }\n",
              "\n",
              "    .dataframe thead th {\n",
              "        text-align: right;\n",
              "    }\n",
              "</style>\n",
              "<table border=\"1\" class=\"dataframe\">\n",
              "  <thead>\n",
              "    <tr style=\"text-align: right;\">\n",
              "      <th></th>\n",
              "      <th>Year</th>\n",
              "      <th>Month</th>\n",
              "      <th>DayofMonth</th>\n",
              "      <th>DayOfWeek</th>\n",
              "      <th>DepTime</th>\n",
              "      <th>CRSDepTime</th>\n",
              "      <th>ArrTime</th>\n",
              "      <th>CRSArrTime</th>\n",
              "      <th>UniqueCarrier</th>\n",
              "      <th>FlightNum</th>\n",
              "      <th>...</th>\n",
              "      <th>TaxiIn</th>\n",
              "      <th>TaxiOut</th>\n",
              "      <th>Cancelled</th>\n",
              "      <th>CancellationCode</th>\n",
              "      <th>Diverted</th>\n",
              "      <th>CarrierDelay</th>\n",
              "      <th>WeatherDelay</th>\n",
              "      <th>NASDelay</th>\n",
              "      <th>SecurityDelay</th>\n",
              "      <th>LateAircraftDelay</th>\n",
              "    </tr>\n",
              "  </thead>\n",
              "  <tbody>\n",
              "    <tr>\n",
              "      <th>0</th>\n",
              "      <td>2008</td>\n",
              "      <td>1</td>\n",
              "      <td>3</td>\n",
              "      <td>4</td>\n",
              "      <td>1229.0</td>\n",
              "      <td>1220</td>\n",
              "      <td>1342.0</td>\n",
              "      <td>1325</td>\n",
              "      <td>WN</td>\n",
              "      <td>2874</td>\n",
              "      <td>...</td>\n",
              "      <td>2.0</td>\n",
              "      <td>24.0</td>\n",
              "      <td>0</td>\n",
              "      <td>NaN</td>\n",
              "      <td>0</td>\n",
              "      <td>9.0</td>\n",
              "      <td>0.0</td>\n",
              "      <td>8.0</td>\n",
              "      <td>0.0</td>\n",
              "      <td>0.0</td>\n",
              "    </tr>\n",
              "    <tr>\n",
              "      <th>1</th>\n",
              "      <td>2008</td>\n",
              "      <td>1</td>\n",
              "      <td>3</td>\n",
              "      <td>4</td>\n",
              "      <td>1424.0</td>\n",
              "      <td>1415</td>\n",
              "      <td>1941.0</td>\n",
              "      <td>1945</td>\n",
              "      <td>WN</td>\n",
              "      <td>396</td>\n",
              "      <td>...</td>\n",
              "      <td>8.0</td>\n",
              "      <td>12.0</td>\n",
              "      <td>0</td>\n",
              "      <td>NaN</td>\n",
              "      <td>0</td>\n",
              "      <td>NaN</td>\n",
              "      <td>NaN</td>\n",
              "      <td>NaN</td>\n",
              "      <td>NaN</td>\n",
              "      <td>NaN</td>\n",
              "    </tr>\n",
              "    <tr>\n",
              "      <th>2</th>\n",
              "      <td>2008</td>\n",
              "      <td>1</td>\n",
              "      <td>3</td>\n",
              "      <td>4</td>\n",
              "      <td>934.0</td>\n",
              "      <td>935</td>\n",
              "      <td>1453.0</td>\n",
              "      <td>1505</td>\n",
              "      <td>WN</td>\n",
              "      <td>830</td>\n",
              "      <td>...</td>\n",
              "      <td>6.0</td>\n",
              "      <td>16.0</td>\n",
              "      <td>0</td>\n",
              "      <td>NaN</td>\n",
              "      <td>0</td>\n",
              "      <td>NaN</td>\n",
              "      <td>NaN</td>\n",
              "      <td>NaN</td>\n",
              "      <td>NaN</td>\n",
              "      <td>NaN</td>\n",
              "    </tr>\n",
              "    <tr>\n",
              "      <th>3</th>\n",
              "      <td>2008</td>\n",
              "      <td>1</td>\n",
              "      <td>3</td>\n",
              "      <td>4</td>\n",
              "      <td>851.0</td>\n",
              "      <td>835</td>\n",
              "      <td>938.0</td>\n",
              "      <td>930</td>\n",
              "      <td>WN</td>\n",
              "      <td>1670</td>\n",
              "      <td>...</td>\n",
              "      <td>5.0</td>\n",
              "      <td>8.0</td>\n",
              "      <td>0</td>\n",
              "      <td>NaN</td>\n",
              "      <td>0</td>\n",
              "      <td>NaN</td>\n",
              "      <td>NaN</td>\n",
              "      <td>NaN</td>\n",
              "      <td>NaN</td>\n",
              "      <td>NaN</td>\n",
              "    </tr>\n",
              "    <tr>\n",
              "      <th>4</th>\n",
              "      <td>2008</td>\n",
              "      <td>1</td>\n",
              "      <td>3</td>\n",
              "      <td>4</td>\n",
              "      <td>1503.0</td>\n",
              "      <td>1425</td>\n",
              "      <td>1604.0</td>\n",
              "      <td>1530</td>\n",
              "      <td>WN</td>\n",
              "      <td>2357</td>\n",
              "      <td>...</td>\n",
              "      <td>3.0</td>\n",
              "      <td>10.0</td>\n",
              "      <td>0</td>\n",
              "      <td>NaN</td>\n",
              "      <td>0</td>\n",
              "      <td>9.0</td>\n",
              "      <td>0.0</td>\n",
              "      <td>0.0</td>\n",
              "      <td>0.0</td>\n",
              "      <td>25.0</td>\n",
              "    </tr>\n",
              "  </tbody>\n",
              "</table>\n",
              "<p>5 rows × 29 columns</p>\n",
              "</div>\n",
              "      <button class=\"colab-df-convert\" onclick=\"convertToInteractive('df-a7130369-e18e-40c7-b34f-0ad425cbd5d2')\"\n",
              "              title=\"Convert this dataframe to an interactive table.\"\n",
              "              style=\"display:none;\">\n",
              "        \n",
              "  <svg xmlns=\"http://www.w3.org/2000/svg\" height=\"24px\"viewBox=\"0 0 24 24\"\n",
              "       width=\"24px\">\n",
              "    <path d=\"M0 0h24v24H0V0z\" fill=\"none\"/>\n",
              "    <path d=\"M18.56 5.44l.94 2.06.94-2.06 2.06-.94-2.06-.94-.94-2.06-.94 2.06-2.06.94zm-11 1L8.5 8.5l.94-2.06 2.06-.94-2.06-.94L8.5 2.5l-.94 2.06-2.06.94zm10 10l.94 2.06.94-2.06 2.06-.94-2.06-.94-.94-2.06-.94 2.06-2.06.94z\"/><path d=\"M17.41 7.96l-1.37-1.37c-.4-.4-.92-.59-1.43-.59-.52 0-1.04.2-1.43.59L10.3 9.45l-7.72 7.72c-.78.78-.78 2.05 0 2.83L4 21.41c.39.39.9.59 1.41.59.51 0 1.02-.2 1.41-.59l7.78-7.78 2.81-2.81c.8-.78.8-2.07 0-2.86zM5.41 20L4 18.59l7.72-7.72 1.47 1.35L5.41 20z\"/>\n",
              "  </svg>\n",
              "      </button>\n",
              "      \n",
              "  <style>\n",
              "    .colab-df-container {\n",
              "      display:flex;\n",
              "      flex-wrap:wrap;\n",
              "      gap: 12px;\n",
              "    }\n",
              "\n",
              "    .colab-df-convert {\n",
              "      background-color: #E8F0FE;\n",
              "      border: none;\n",
              "      border-radius: 50%;\n",
              "      cursor: pointer;\n",
              "      display: none;\n",
              "      fill: #1967D2;\n",
              "      height: 32px;\n",
              "      padding: 0 0 0 0;\n",
              "      width: 32px;\n",
              "    }\n",
              "\n",
              "    .colab-df-convert:hover {\n",
              "      background-color: #E2EBFA;\n",
              "      box-shadow: 0px 1px 2px rgba(60, 64, 67, 0.3), 0px 1px 3px 1px rgba(60, 64, 67, 0.15);\n",
              "      fill: #174EA6;\n",
              "    }\n",
              "\n",
              "    [theme=dark] .colab-df-convert {\n",
              "      background-color: #3B4455;\n",
              "      fill: #D2E3FC;\n",
              "    }\n",
              "\n",
              "    [theme=dark] .colab-df-convert:hover {\n",
              "      background-color: #434B5C;\n",
              "      box-shadow: 0px 1px 3px 1px rgba(0, 0, 0, 0.15);\n",
              "      filter: drop-shadow(0px 1px 2px rgba(0, 0, 0, 0.3));\n",
              "      fill: #FFFFFF;\n",
              "    }\n",
              "  </style>\n",
              "\n",
              "      <script>\n",
              "        const buttonEl =\n",
              "          document.querySelector('#df-a7130369-e18e-40c7-b34f-0ad425cbd5d2 button.colab-df-convert');\n",
              "        buttonEl.style.display =\n",
              "          google.colab.kernel.accessAllowed ? 'block' : 'none';\n",
              "\n",
              "        async function convertToInteractive(key) {\n",
              "          const element = document.querySelector('#df-a7130369-e18e-40c7-b34f-0ad425cbd5d2');\n",
              "          const dataTable =\n",
              "            await google.colab.kernel.invokeFunction('convertToInteractive',\n",
              "                                                     [key], {});\n",
              "          if (!dataTable) return;\n",
              "\n",
              "          const docLinkHtml = 'Like what you see? Visit the ' +\n",
              "            '<a target=\"_blank\" href=https://colab.research.google.com/notebooks/data_table.ipynb>data table notebook</a>'\n",
              "            + ' to learn more about interactive tables.';\n",
              "          element.innerHTML = '';\n",
              "          dataTable['output_type'] = 'display_data';\n",
              "          await google.colab.output.renderOutput(dataTable, element);\n",
              "          const docLink = document.createElement('div');\n",
              "          docLink.innerHTML = docLinkHtml;\n",
              "          element.appendChild(docLink);\n",
              "        }\n",
              "      </script>\n",
              "    </div>\n",
              "  </div>\n",
              "  "
            ]
          },
          "metadata": {},
          "execution_count": 40
        }
      ]
    },
    {
      "cell_type": "code",
      "source": [
        "raw_pd.info()"
      ],
      "metadata": {
        "colab": {
          "base_uri": "https://localhost:8080/"
        },
        "id": "VolKWcAB0oNN",
        "outputId": "ad9b7e5a-2684-47f0-9d5f-52995f1cde4b"
      },
      "execution_count": 41,
      "outputs": [
        {
          "output_type": "stream",
          "name": "stdout",
          "text": [
            "<class 'pandas.core.frame.DataFrame'>\n",
            "RangeIndex: 70096 entries, 0 to 70095\n",
            "Data columns (total 29 columns):\n",
            " #   Column             Non-Null Count  Dtype  \n",
            "---  ------             --------------  -----  \n",
            " 0   Year               70096 non-null  int64  \n",
            " 1   Month              70096 non-null  int64  \n",
            " 2   DayofMonth         70096 non-null  int64  \n",
            " 3   DayOfWeek          70096 non-null  int64  \n",
            " 4   DepTime            68772 non-null  float64\n",
            " 5   CRSDepTime         70096 non-null  int64  \n",
            " 6   ArrTime            68624 non-null  float64\n",
            " 7   CRSArrTime         70096 non-null  int64  \n",
            " 8   UniqueCarrier      70096 non-null  object \n",
            " 9   FlightNum          70096 non-null  int64  \n",
            " 10  TailNum            69259 non-null  object \n",
            " 11  ActualElapsedTime  68588 non-null  float64\n",
            " 12  CRSElapsedTime     70090 non-null  float64\n",
            " 13  AirTime            68588 non-null  float64\n",
            " 14  ArrDelay           68588 non-null  float64\n",
            " 15  DepDelay           68772 non-null  float64\n",
            " 16  Origin             70096 non-null  object \n",
            " 17  Dest               70096 non-null  object \n",
            " 18  Distance           70096 non-null  int64  \n",
            " 19  TaxiIn             68624 non-null  float64\n",
            " 20  TaxiOut            68767 non-null  float64\n",
            " 21  Cancelled          70096 non-null  int64  \n",
            " 22  CancellationCode   1333 non-null   object \n",
            " 23  Diverted           70096 non-null  int64  \n",
            " 24  CarrierDelay       15130 non-null  float64\n",
            " 25  WeatherDelay       15130 non-null  float64\n",
            " 26  NASDelay           15130 non-null  float64\n",
            " 27  SecurityDelay      15130 non-null  float64\n",
            " 28  LateAircraftDelay  15130 non-null  float64\n",
            "dtypes: float64(14), int64(10), object(5)\n",
            "memory usage: 15.5+ MB\n"
          ]
        }
      ]
    },
    {
      "cell_type": "code",
      "source": [
        "def t_timeperiod(origin):\n",
        "    if origin is None:\n",
        "        period = None\n",
        "    elif origin > 0 and origin < 600:\n",
        "        period = '00.01-05.59'\n",
        "    elif origin >= 600 and origin <=1200:\n",
        "        period = '06.00-11.59'\n",
        "    elif origin >= 1200 and origin <= 1800:\n",
        "        period = '12.00-17.59'\n",
        "    elif origin >= 1800 and origin <= 2400:\n",
        "        period = '18.00-24.00'\n",
        "    else:\n",
        "        period = 'NA'\n",
        "    return period"
      ],
      "metadata": {
        "id": "NIAFGQAqYM0x"
      },
      "execution_count": 42,
      "outputs": []
    },
    {
      "cell_type": "code",
      "source": [
        "raw_pd['DepTime'] = raw_pd['DepTime'].apply(lambda x:t_timeperiod(x))"
      ],
      "metadata": {
        "id": "4ubIKjIqYMq4"
      },
      "execution_count": 43,
      "outputs": []
    },
    {
      "cell_type": "code",
      "source": [
        "max_distance = raw_pd['Distance'].max()\n",
        "min_distance = raw_pd['Distance'].min()"
      ],
      "metadata": {
        "id": "XWFRqqx0afjL"
      },
      "execution_count": 44,
      "outputs": []
    },
    {
      "cell_type": "code",
      "source": [
        "max_ArrDelay = raw_pd['ArrDelay'].max()\n",
        "min_ArrDelay = raw_pd['ArrDelay'].min()"
      ],
      "metadata": {
        "id": "kVNRRIILcDU7"
      },
      "execution_count": 45,
      "outputs": []
    },
    {
      "cell_type": "code",
      "source": [
        "def t_normalized_distance(origin):\n",
        "    if origin is None:\n",
        "        return None\n",
        "    else:\n",
        "        return ((origin-min_distance)/(max_distance-min_distance))"
      ],
      "metadata": {
        "id": "LhbmM1q2cDSE"
      },
      "execution_count": 46,
      "outputs": []
    },
    {
      "cell_type": "code",
      "source": [
        "def t_normalized_ArrDelay(origin):\n",
        "    if origin is None:\n",
        "        return None\n",
        "    else:\n",
        "        return ((origin-min_ArrDelay)/(max_ArrDelay-min_ArrDelay))"
      ],
      "metadata": {
        "id": "kij8fse_cDPO"
      },
      "execution_count": 47,
      "outputs": []
    },
    {
      "cell_type": "code",
      "source": [
        "raw_pd['Distance'] = raw_pd['Distance'].apply(lambda x:t_normalized_distance(x))"
      ],
      "metadata": {
        "id": "Zj2TrU6acDMV"
      },
      "execution_count": 48,
      "outputs": []
    },
    {
      "cell_type": "code",
      "source": [
        "raw_pd['ArrDelay'] = raw_pd['ArrDelay'].apply(lambda x:t_normalized_ArrDelay(x))"
      ],
      "metadata": {
        "id": "BHL5SbdEcDJv"
      },
      "execution_count": 49,
      "outputs": []
    },
    {
      "cell_type": "code",
      "source": [],
      "metadata": {
        "id": "ujMCi9kCcDHI"
      },
      "execution_count": 49,
      "outputs": []
    },
    {
      "cell_type": "code",
      "source": [],
      "metadata": {
        "id": "fQm_LajycDEA"
      },
      "execution_count": 49,
      "outputs": []
    },
    {
      "cell_type": "code",
      "source": [],
      "metadata": {
        "id": "0U2pbBJgcDBa"
      },
      "execution_count": 49,
      "outputs": []
    },
    {
      "cell_type": "code",
      "source": [],
      "metadata": {
        "id": "XPQyDdxicC-S"
      },
      "execution_count": 49,
      "outputs": []
    },
    {
      "cell_type": "code",
      "source": [],
      "metadata": {
        "id": "CZzfwdCgcC7s"
      },
      "execution_count": 49,
      "outputs": []
    },
    {
      "cell_type": "code",
      "source": [],
      "metadata": {
        "id": "GnYJSUARcCwg"
      },
      "execution_count": 49,
      "outputs": []
    },
    {
      "cell_type": "code",
      "source": [
        "features_pd = raw_pd[['UniqueCarrier','Origin','Dest',\\\n",
        "        'DepTime','TaxiOut','TaxiIn','DepDelay',\\\n",
        "        'DayOfWeek','Distance','ArrDelay']]"
      ],
      "metadata": {
        "id": "y46Ue7iZXb74"
      },
      "execution_count": 50,
      "outputs": []
    },
    {
      "cell_type": "code",
      "source": [
        "final_pd = features_pd.dropna()"
      ],
      "metadata": {
        "id": "wouBuA79Xb2Y"
      },
      "execution_count": 51,
      "outputs": []
    },
    {
      "cell_type": "code",
      "source": [
        "final_pd.count()"
      ],
      "metadata": {
        "id": "OvVzUT9OXbyv",
        "colab": {
          "base_uri": "https://localhost:8080/"
        },
        "outputId": "e10b48e7-b9b2-4dcc-dfa9-688aa2d67512"
      },
      "execution_count": 52,
      "outputs": [
        {
          "output_type": "execute_result",
          "data": {
            "text/plain": [
              "UniqueCarrier    68588\n",
              "Origin           68588\n",
              "Dest             68588\n",
              "DepTime          68588\n",
              "TaxiOut          68588\n",
              "TaxiIn           68588\n",
              "DepDelay         68588\n",
              "DayOfWeek        68588\n",
              "Distance         68588\n",
              "ArrDelay         68588\n",
              "dtype: int64"
            ]
          },
          "metadata": {},
          "execution_count": 52
        }
      ]
    },
    {
      "cell_type": "code",
      "source": [
        "features_pd.head(20)"
      ],
      "metadata": {
        "id": "TtkktQW2Xbv5",
        "colab": {
          "base_uri": "https://localhost:8080/",
          "height": 677
        },
        "outputId": "2a68de7d-af8b-4a0a-e0c0-12a141e1364f"
      },
      "execution_count": 53,
      "outputs": [
        {
          "output_type": "execute_result",
          "data": {
            "text/plain": [
              "   UniqueCarrier Origin Dest      DepTime  TaxiOut  TaxiIn  DepDelay  \\\n",
              "0             WN    LAS  BUR  12.00-17.59     24.0     2.0       9.0   \n",
              "1             WN    LAS  MDW  12.00-17.59     12.0     8.0       9.0   \n",
              "2             WN    LAS  MDW  06.00-11.59     16.0     6.0      -1.0   \n",
              "3             WN    LAS  ONT  06.00-11.59      8.0     5.0      16.0   \n",
              "4             WN    LAS  SAN  12.00-17.59     10.0     3.0      38.0   \n",
              "5             WN    LAS  TUS  12.00-17.59     17.0     3.0      21.0   \n",
              "6             WN    LAX  AUS  06.00-11.59      7.0     5.0       9.0   \n",
              "7             WN    MCO  BUF  06.00-11.59     12.0     3.0       6.0   \n",
              "8             WN    MCO  PVD  06.00-11.59     13.0     4.0       2.0   \n",
              "9             WN    MCO  RSW  18.00-24.00     16.0     3.0       8.0   \n",
              "10            WN    OAK  ONT  06.00-11.59     11.0     3.0       0.0   \n",
              "11            WN    OAK  SNA  12.00-17.59     22.0     3.0      65.0   \n",
              "12            WN    PDX  MDW  12.00-17.59      7.0     6.0      56.0   \n",
              "13            WN    PHX  ABQ  18.00-24.00     13.0     5.0      15.0   \n",
              "14            WN    PHX  SMF  12.00-17.59     10.0     4.0      13.0   \n",
              "15            WN    PIT  MDW  18.00-24.00      8.0    10.0      42.0   \n",
              "16            WN    RNO  MDW  06.00-11.59     10.0     6.0       6.0   \n",
              "17            WN    SAT  PHX  06.00-11.59      9.0     3.0       1.0   \n",
              "18            WN    SJC  BUR           NA      NaN     NaN       NaN   \n",
              "19            WN    SJC  LAX  06.00-11.59     15.0     9.0      11.0   \n",
              "\n",
              "    DayOfWeek  Distance  ArrDelay  \n",
              "0           4  0.038937  0.082765  \n",
              "1           4  0.302170  0.064846  \n",
              "2           4  0.302170  0.058020  \n",
              "3           4  0.033665  0.075085  \n",
              "4           4  0.046035  0.097270  \n",
              "5           4  0.067735  0.086177  \n",
              "6           4  0.245589  0.067406  \n",
              "7           4  0.198743  0.079352  \n",
              "8           4  0.211316  0.073379  \n",
              "9           4  0.020685  0.076792  \n",
              "10          4  0.066924  0.061433  \n",
              "11          4  0.068952  0.130546  \n",
              "12          4  0.348814  0.109215  \n",
              "13          4  0.060231  0.075939  \n",
              "14          4  0.124924  0.072526  \n",
              "15          4  0.075238  0.094710  \n",
              "16          4  0.334415  0.061433  \n",
              "17          4  0.164672  0.061433  \n",
              "18          4  0.053742       NaN  \n",
              "19          4  0.056175  0.075939  "
            ],
            "text/html": [
              "\n",
              "  <div id=\"df-88394fb3-55c1-491a-a5ee-6a2026c5133f\">\n",
              "    <div class=\"colab-df-container\">\n",
              "      <div>\n",
              "<style scoped>\n",
              "    .dataframe tbody tr th:only-of-type {\n",
              "        vertical-align: middle;\n",
              "    }\n",
              "\n",
              "    .dataframe tbody tr th {\n",
              "        vertical-align: top;\n",
              "    }\n",
              "\n",
              "    .dataframe thead th {\n",
              "        text-align: right;\n",
              "    }\n",
              "</style>\n",
              "<table border=\"1\" class=\"dataframe\">\n",
              "  <thead>\n",
              "    <tr style=\"text-align: right;\">\n",
              "      <th></th>\n",
              "      <th>UniqueCarrier</th>\n",
              "      <th>Origin</th>\n",
              "      <th>Dest</th>\n",
              "      <th>DepTime</th>\n",
              "      <th>TaxiOut</th>\n",
              "      <th>TaxiIn</th>\n",
              "      <th>DepDelay</th>\n",
              "      <th>DayOfWeek</th>\n",
              "      <th>Distance</th>\n",
              "      <th>ArrDelay</th>\n",
              "    </tr>\n",
              "  </thead>\n",
              "  <tbody>\n",
              "    <tr>\n",
              "      <th>0</th>\n",
              "      <td>WN</td>\n",
              "      <td>LAS</td>\n",
              "      <td>BUR</td>\n",
              "      <td>12.00-17.59</td>\n",
              "      <td>24.0</td>\n",
              "      <td>2.0</td>\n",
              "      <td>9.0</td>\n",
              "      <td>4</td>\n",
              "      <td>0.038937</td>\n",
              "      <td>0.082765</td>\n",
              "    </tr>\n",
              "    <tr>\n",
              "      <th>1</th>\n",
              "      <td>WN</td>\n",
              "      <td>LAS</td>\n",
              "      <td>MDW</td>\n",
              "      <td>12.00-17.59</td>\n",
              "      <td>12.0</td>\n",
              "      <td>8.0</td>\n",
              "      <td>9.0</td>\n",
              "      <td>4</td>\n",
              "      <td>0.302170</td>\n",
              "      <td>0.064846</td>\n",
              "    </tr>\n",
              "    <tr>\n",
              "      <th>2</th>\n",
              "      <td>WN</td>\n",
              "      <td>LAS</td>\n",
              "      <td>MDW</td>\n",
              "      <td>06.00-11.59</td>\n",
              "      <td>16.0</td>\n",
              "      <td>6.0</td>\n",
              "      <td>-1.0</td>\n",
              "      <td>4</td>\n",
              "      <td>0.302170</td>\n",
              "      <td>0.058020</td>\n",
              "    </tr>\n",
              "    <tr>\n",
              "      <th>3</th>\n",
              "      <td>WN</td>\n",
              "      <td>LAS</td>\n",
              "      <td>ONT</td>\n",
              "      <td>06.00-11.59</td>\n",
              "      <td>8.0</td>\n",
              "      <td>5.0</td>\n",
              "      <td>16.0</td>\n",
              "      <td>4</td>\n",
              "      <td>0.033665</td>\n",
              "      <td>0.075085</td>\n",
              "    </tr>\n",
              "    <tr>\n",
              "      <th>4</th>\n",
              "      <td>WN</td>\n",
              "      <td>LAS</td>\n",
              "      <td>SAN</td>\n",
              "      <td>12.00-17.59</td>\n",
              "      <td>10.0</td>\n",
              "      <td>3.0</td>\n",
              "      <td>38.0</td>\n",
              "      <td>4</td>\n",
              "      <td>0.046035</td>\n",
              "      <td>0.097270</td>\n",
              "    </tr>\n",
              "    <tr>\n",
              "      <th>5</th>\n",
              "      <td>WN</td>\n",
              "      <td>LAS</td>\n",
              "      <td>TUS</td>\n",
              "      <td>12.00-17.59</td>\n",
              "      <td>17.0</td>\n",
              "      <td>3.0</td>\n",
              "      <td>21.0</td>\n",
              "      <td>4</td>\n",
              "      <td>0.067735</td>\n",
              "      <td>0.086177</td>\n",
              "    </tr>\n",
              "    <tr>\n",
              "      <th>6</th>\n",
              "      <td>WN</td>\n",
              "      <td>LAX</td>\n",
              "      <td>AUS</td>\n",
              "      <td>06.00-11.59</td>\n",
              "      <td>7.0</td>\n",
              "      <td>5.0</td>\n",
              "      <td>9.0</td>\n",
              "      <td>4</td>\n",
              "      <td>0.245589</td>\n",
              "      <td>0.067406</td>\n",
              "    </tr>\n",
              "    <tr>\n",
              "      <th>7</th>\n",
              "      <td>WN</td>\n",
              "      <td>MCO</td>\n",
              "      <td>BUF</td>\n",
              "      <td>06.00-11.59</td>\n",
              "      <td>12.0</td>\n",
              "      <td>3.0</td>\n",
              "      <td>6.0</td>\n",
              "      <td>4</td>\n",
              "      <td>0.198743</td>\n",
              "      <td>0.079352</td>\n",
              "    </tr>\n",
              "    <tr>\n",
              "      <th>8</th>\n",
              "      <td>WN</td>\n",
              "      <td>MCO</td>\n",
              "      <td>PVD</td>\n",
              "      <td>06.00-11.59</td>\n",
              "      <td>13.0</td>\n",
              "      <td>4.0</td>\n",
              "      <td>2.0</td>\n",
              "      <td>4</td>\n",
              "      <td>0.211316</td>\n",
              "      <td>0.073379</td>\n",
              "    </tr>\n",
              "    <tr>\n",
              "      <th>9</th>\n",
              "      <td>WN</td>\n",
              "      <td>MCO</td>\n",
              "      <td>RSW</td>\n",
              "      <td>18.00-24.00</td>\n",
              "      <td>16.0</td>\n",
              "      <td>3.0</td>\n",
              "      <td>8.0</td>\n",
              "      <td>4</td>\n",
              "      <td>0.020685</td>\n",
              "      <td>0.076792</td>\n",
              "    </tr>\n",
              "    <tr>\n",
              "      <th>10</th>\n",
              "      <td>WN</td>\n",
              "      <td>OAK</td>\n",
              "      <td>ONT</td>\n",
              "      <td>06.00-11.59</td>\n",
              "      <td>11.0</td>\n",
              "      <td>3.0</td>\n",
              "      <td>0.0</td>\n",
              "      <td>4</td>\n",
              "      <td>0.066924</td>\n",
              "      <td>0.061433</td>\n",
              "    </tr>\n",
              "    <tr>\n",
              "      <th>11</th>\n",
              "      <td>WN</td>\n",
              "      <td>OAK</td>\n",
              "      <td>SNA</td>\n",
              "      <td>12.00-17.59</td>\n",
              "      <td>22.0</td>\n",
              "      <td>3.0</td>\n",
              "      <td>65.0</td>\n",
              "      <td>4</td>\n",
              "      <td>0.068952</td>\n",
              "      <td>0.130546</td>\n",
              "    </tr>\n",
              "    <tr>\n",
              "      <th>12</th>\n",
              "      <td>WN</td>\n",
              "      <td>PDX</td>\n",
              "      <td>MDW</td>\n",
              "      <td>12.00-17.59</td>\n",
              "      <td>7.0</td>\n",
              "      <td>6.0</td>\n",
              "      <td>56.0</td>\n",
              "      <td>4</td>\n",
              "      <td>0.348814</td>\n",
              "      <td>0.109215</td>\n",
              "    </tr>\n",
              "    <tr>\n",
              "      <th>13</th>\n",
              "      <td>WN</td>\n",
              "      <td>PHX</td>\n",
              "      <td>ABQ</td>\n",
              "      <td>18.00-24.00</td>\n",
              "      <td>13.0</td>\n",
              "      <td>5.0</td>\n",
              "      <td>15.0</td>\n",
              "      <td>4</td>\n",
              "      <td>0.060231</td>\n",
              "      <td>0.075939</td>\n",
              "    </tr>\n",
              "    <tr>\n",
              "      <th>14</th>\n",
              "      <td>WN</td>\n",
              "      <td>PHX</td>\n",
              "      <td>SMF</td>\n",
              "      <td>12.00-17.59</td>\n",
              "      <td>10.0</td>\n",
              "      <td>4.0</td>\n",
              "      <td>13.0</td>\n",
              "      <td>4</td>\n",
              "      <td>0.124924</td>\n",
              "      <td>0.072526</td>\n",
              "    </tr>\n",
              "    <tr>\n",
              "      <th>15</th>\n",
              "      <td>WN</td>\n",
              "      <td>PIT</td>\n",
              "      <td>MDW</td>\n",
              "      <td>18.00-24.00</td>\n",
              "      <td>8.0</td>\n",
              "      <td>10.0</td>\n",
              "      <td>42.0</td>\n",
              "      <td>4</td>\n",
              "      <td>0.075238</td>\n",
              "      <td>0.094710</td>\n",
              "    </tr>\n",
              "    <tr>\n",
              "      <th>16</th>\n",
              "      <td>WN</td>\n",
              "      <td>RNO</td>\n",
              "      <td>MDW</td>\n",
              "      <td>06.00-11.59</td>\n",
              "      <td>10.0</td>\n",
              "      <td>6.0</td>\n",
              "      <td>6.0</td>\n",
              "      <td>4</td>\n",
              "      <td>0.334415</td>\n",
              "      <td>0.061433</td>\n",
              "    </tr>\n",
              "    <tr>\n",
              "      <th>17</th>\n",
              "      <td>WN</td>\n",
              "      <td>SAT</td>\n",
              "      <td>PHX</td>\n",
              "      <td>06.00-11.59</td>\n",
              "      <td>9.0</td>\n",
              "      <td>3.0</td>\n",
              "      <td>1.0</td>\n",
              "      <td>4</td>\n",
              "      <td>0.164672</td>\n",
              "      <td>0.061433</td>\n",
              "    </tr>\n",
              "    <tr>\n",
              "      <th>18</th>\n",
              "      <td>WN</td>\n",
              "      <td>SJC</td>\n",
              "      <td>BUR</td>\n",
              "      <td>NA</td>\n",
              "      <td>NaN</td>\n",
              "      <td>NaN</td>\n",
              "      <td>NaN</td>\n",
              "      <td>4</td>\n",
              "      <td>0.053742</td>\n",
              "      <td>NaN</td>\n",
              "    </tr>\n",
              "    <tr>\n",
              "      <th>19</th>\n",
              "      <td>WN</td>\n",
              "      <td>SJC</td>\n",
              "      <td>LAX</td>\n",
              "      <td>06.00-11.59</td>\n",
              "      <td>15.0</td>\n",
              "      <td>9.0</td>\n",
              "      <td>11.0</td>\n",
              "      <td>4</td>\n",
              "      <td>0.056175</td>\n",
              "      <td>0.075939</td>\n",
              "    </tr>\n",
              "  </tbody>\n",
              "</table>\n",
              "</div>\n",
              "      <button class=\"colab-df-convert\" onclick=\"convertToInteractive('df-88394fb3-55c1-491a-a5ee-6a2026c5133f')\"\n",
              "              title=\"Convert this dataframe to an interactive table.\"\n",
              "              style=\"display:none;\">\n",
              "        \n",
              "  <svg xmlns=\"http://www.w3.org/2000/svg\" height=\"24px\"viewBox=\"0 0 24 24\"\n",
              "       width=\"24px\">\n",
              "    <path d=\"M0 0h24v24H0V0z\" fill=\"none\"/>\n",
              "    <path d=\"M18.56 5.44l.94 2.06.94-2.06 2.06-.94-2.06-.94-.94-2.06-.94 2.06-2.06.94zm-11 1L8.5 8.5l.94-2.06 2.06-.94-2.06-.94L8.5 2.5l-.94 2.06-2.06.94zm10 10l.94 2.06.94-2.06 2.06-.94-2.06-.94-.94-2.06-.94 2.06-2.06.94z\"/><path d=\"M17.41 7.96l-1.37-1.37c-.4-.4-.92-.59-1.43-.59-.52 0-1.04.2-1.43.59L10.3 9.45l-7.72 7.72c-.78.78-.78 2.05 0 2.83L4 21.41c.39.39.9.59 1.41.59.51 0 1.02-.2 1.41-.59l7.78-7.78 2.81-2.81c.8-.78.8-2.07 0-2.86zM5.41 20L4 18.59l7.72-7.72 1.47 1.35L5.41 20z\"/>\n",
              "  </svg>\n",
              "      </button>\n",
              "      \n",
              "  <style>\n",
              "    .colab-df-container {\n",
              "      display:flex;\n",
              "      flex-wrap:wrap;\n",
              "      gap: 12px;\n",
              "    }\n",
              "\n",
              "    .colab-df-convert {\n",
              "      background-color: #E8F0FE;\n",
              "      border: none;\n",
              "      border-radius: 50%;\n",
              "      cursor: pointer;\n",
              "      display: none;\n",
              "      fill: #1967D2;\n",
              "      height: 32px;\n",
              "      padding: 0 0 0 0;\n",
              "      width: 32px;\n",
              "    }\n",
              "\n",
              "    .colab-df-convert:hover {\n",
              "      background-color: #E2EBFA;\n",
              "      box-shadow: 0px 1px 2px rgba(60, 64, 67, 0.3), 0px 1px 3px 1px rgba(60, 64, 67, 0.15);\n",
              "      fill: #174EA6;\n",
              "    }\n",
              "\n",
              "    [theme=dark] .colab-df-convert {\n",
              "      background-color: #3B4455;\n",
              "      fill: #D2E3FC;\n",
              "    }\n",
              "\n",
              "    [theme=dark] .colab-df-convert:hover {\n",
              "      background-color: #434B5C;\n",
              "      box-shadow: 0px 1px 3px 1px rgba(0, 0, 0, 0.15);\n",
              "      filter: drop-shadow(0px 1px 2px rgba(0, 0, 0, 0.3));\n",
              "      fill: #FFFFFF;\n",
              "    }\n",
              "  </style>\n",
              "\n",
              "      <script>\n",
              "        const buttonEl =\n",
              "          document.querySelector('#df-88394fb3-55c1-491a-a5ee-6a2026c5133f button.colab-df-convert');\n",
              "        buttonEl.style.display =\n",
              "          google.colab.kernel.accessAllowed ? 'block' : 'none';\n",
              "\n",
              "        async function convertToInteractive(key) {\n",
              "          const element = document.querySelector('#df-88394fb3-55c1-491a-a5ee-6a2026c5133f');\n",
              "          const dataTable =\n",
              "            await google.colab.kernel.invokeFunction('convertToInteractive',\n",
              "                                                     [key], {});\n",
              "          if (!dataTable) return;\n",
              "\n",
              "          const docLinkHtml = 'Like what you see? Visit the ' +\n",
              "            '<a target=\"_blank\" href=https://colab.research.google.com/notebooks/data_table.ipynb>data table notebook</a>'\n",
              "            + ' to learn more about interactive tables.';\n",
              "          element.innerHTML = '';\n",
              "          dataTable['output_type'] = 'display_data';\n",
              "          await google.colab.output.renderOutput(dataTable, element);\n",
              "          const docLink = document.createElement('div');\n",
              "          docLink.innerHTML = docLinkHtml;\n",
              "          element.appendChild(docLink);\n",
              "        }\n",
              "      </script>\n",
              "    </div>\n",
              "  </div>\n",
              "  "
            ]
          },
          "metadata": {},
          "execution_count": 53
        }
      ]
    },
    {
      "cell_type": "code",
      "source": [
        "\n",
        "\n",
        "#raw_pd.isnull().sum()\n",
        "#nullCol_series = raw_pd.isnull().sum()\n",
        "#notNull_list = list(nullCol_series[nullCol_series == 0].index)\n",
        "#notNull_list\n",
        "#requiredCol_list = ['TaxiIn','TaxiOut','ArrDelay']\n",
        "#selectedCol_list = notNull_list + requiredCol_list\n",
        "#noNull_pd = raw_pd.loc[:,selectedCol_list].dropna()\n",
        "#noNull_pd.isnull().sum()\n",
        "#noNull_pd.describe()\n",
        "#noNull_pd.info()"
      ],
      "metadata": {
        "id": "E7-RH6rdXbnS"
      },
      "execution_count": 54,
      "outputs": []
    },
    {
      "cell_type": "code",
      "source": [
        "#final_pd = noNull_pd"
      ],
      "metadata": {
        "id": "AaSTMmwxTFRl"
      },
      "execution_count": 55,
      "outputs": []
    },
    {
      "cell_type": "code",
      "source": [
        "import pandas as pd\n",
        "from seaborn import load_dataset\n",
        "import numpy as np\n",
        "\n",
        "from sklearn.model_selection import train_test_split\n",
        "from sklearn.base import BaseEstimator, TransformerMixin\n",
        "from sklearn.preprocessing import OneHotEncoder, MinMaxScaler\n",
        "from sklearn.impute import SimpleImputer\n",
        "from sklearn.pipeline import Pipeline, FeatureUnion\n",
        "from sklearn.compose import ColumnTransformer\n",
        "from sklearn.linear_model import LinearRegression"
      ],
      "metadata": {
        "id": "sC1Yq7VPSo3H"
      },
      "execution_count": 56,
      "outputs": []
    },
    {
      "cell_type": "code",
      "source": [
        "train_df = final_pd.sample(frac=0.8,random_state=123)"
      ],
      "metadata": {
        "id": "7-3UT4nJS_Zr"
      },
      "execution_count": 57,
      "outputs": []
    },
    {
      "cell_type": "code",
      "source": [
        "test_df = final_pd.drop(train_df.index)"
      ],
      "metadata": {
        "id": "S2Q1qB6ITRfU"
      },
      "execution_count": 58,
      "outputs": []
    },
    {
      "cell_type": "code",
      "source": [
        "train_df.count()"
      ],
      "metadata": {
        "colab": {
          "base_uri": "https://localhost:8080/"
        },
        "id": "hwrZxWwzTWjc",
        "outputId": "d7683954-d816-48b0-dc65-6fd4d1da5d31"
      },
      "execution_count": 59,
      "outputs": [
        {
          "output_type": "execute_result",
          "data": {
            "text/plain": [
              "UniqueCarrier    54870\n",
              "Origin           54870\n",
              "Dest             54870\n",
              "DepTime          54870\n",
              "TaxiOut          54870\n",
              "TaxiIn           54870\n",
              "DepDelay         54870\n",
              "DayOfWeek        54870\n",
              "Distance         54870\n",
              "ArrDelay         54870\n",
              "dtype: int64"
            ]
          },
          "metadata": {},
          "execution_count": 59
        }
      ]
    },
    {
      "cell_type": "code",
      "source": [
        "test_df.count()"
      ],
      "metadata": {
        "colab": {
          "base_uri": "https://localhost:8080/"
        },
        "id": "LPwBx3n9TZyz",
        "outputId": "b97de2a9-15d3-42ac-9c42-4f983e8d9c16"
      },
      "execution_count": 60,
      "outputs": [
        {
          "output_type": "execute_result",
          "data": {
            "text/plain": [
              "UniqueCarrier    13718\n",
              "Origin           13718\n",
              "Dest             13718\n",
              "DepTime          13718\n",
              "TaxiOut          13718\n",
              "TaxiIn           13718\n",
              "DepDelay         13718\n",
              "DayOfWeek        13718\n",
              "Distance         13718\n",
              "ArrDelay         13718\n",
              "dtype: int64"
            ]
          },
          "metadata": {},
          "execution_count": 60
        }
      ]
    },
    {
      "cell_type": "code",
      "source": [
        "train_labels = train_df.filter(['ArrDelay'])\n",
        "train_df = train_df.loc[:, train_df.columns != 'ArrDelay']"
      ],
      "metadata": {
        "id": "p5EFPeS0Tb5_"
      },
      "execution_count": 61,
      "outputs": []
    },
    {
      "cell_type": "code",
      "source": [
        "type(train_labels)"
      ],
      "metadata": {
        "colab": {
          "base_uri": "https://localhost:8080/"
        },
        "id": "k97_KQlBUYME",
        "outputId": "8b50e637-8f01-4259-beba-cd25d59ca123"
      },
      "execution_count": 62,
      "outputs": [
        {
          "output_type": "execute_result",
          "data": {
            "text/plain": [
              "pandas.core.frame.DataFrame"
            ]
          },
          "metadata": {},
          "execution_count": 62
        }
      ]
    },
    {
      "cell_type": "code",
      "source": [
        "test_labels = test_df.filter(['ArrDelay'])\n",
        "test_df = test_df.loc[:, test_df.columns != 'ArrDelay']"
      ],
      "metadata": {
        "id": "5T_HfZrWUaj3"
      },
      "execution_count": 63,
      "outputs": []
    },
    {
      "cell_type": "code",
      "source": [
        "X_train = train_df\n",
        "X_test = test_df\n",
        "y_train = train_labels\n",
        "y_test = test_labels"
      ],
      "metadata": {
        "id": "MQSm_cPWUqfJ"
      },
      "execution_count": 64,
      "outputs": []
    },
    {
      "cell_type": "code",
      "source": [
        "categorical = list(X_train.select_dtypes('object').columns)\n",
        "print(f\"Categorical columns are: {categorical}\")\n",
        "\n",
        "numerical = list(X_train.select_dtypes('number').columns)\n",
        "print(f\"Numerical columns are: {numerical}\")"
      ],
      "metadata": {
        "colab": {
          "base_uri": "https://localhost:8080/"
        },
        "id": "v_31Pv9oVQbm",
        "outputId": "c75a4217-8054-4ec9-8703-8b98d09f8e66"
      },
      "execution_count": 65,
      "outputs": [
        {
          "output_type": "stream",
          "name": "stdout",
          "text": [
            "Categorical columns are: ['UniqueCarrier', 'Origin', 'Dest', 'DepTime']\n",
            "Numerical columns are: ['TaxiOut', 'TaxiIn', 'DepDelay', 'DayOfWeek', 'Distance']\n"
          ]
        }
      ]
    },
    {
      "cell_type": "code",
      "source": [],
      "metadata": {
        "id": "7rD4_wbdWp9x"
      },
      "execution_count": 65,
      "outputs": []
    },
    {
      "cell_type": "code",
      "source": [
        "from sklearn.tree import DecisionTreeClassifier, export_graphviz, DecisionTreeRegressor\n",
        "from sklearn import tree\n",
        "from sklearn.datasets import load_wine\n",
        "from sklearn.model_selection import train_test_split\n",
        "from sklearn import metrics"
      ],
      "metadata": {
        "id": "-B9QcYVMWqc1"
      },
      "execution_count": 66,
      "outputs": []
    },
    {
      "cell_type": "code",
      "source": [
        "# Define custom transformer\n",
        "class ColumnSelector(BaseEstimator, TransformerMixin):\n",
        "    \"\"\"Select only specified columns.\"\"\"\n",
        "    def __init__(self, columns):\n",
        "        self.columns = columns\n",
        "        \n",
        "    def fit(self, X, y=None):\n",
        "        return self\n",
        "    \n",
        "    def transform(self, X):\n",
        "        return X[self.columns]\n",
        "\n",
        "# Define categorical pipeline\n",
        "cat_pipe = Pipeline([('selector', ColumnSelector(categorical)),\n",
        "                     ('imputer', SimpleImputer(strategy='constant', fill_value='missing')),\n",
        "                     ('encoder', OneHotEncoder(handle_unknown='ignore', sparse=False))])\n",
        "\n",
        "# Define numerical pipeline\n",
        "num_pipe = Pipeline([('selector', ColumnSelector(numerical))\n",
        "                     #('imputer', SimpleImputer(strategy='median')),\n",
        "                     #('scaler', MinMaxScaler())\n",
        "                    ])\n",
        "\n",
        "# Combine categorical and numerical pipeline\n",
        "preprocessor = FeatureUnion(transformer_list=[('cat', cat_pipe),\n",
        "                                              ('num', num_pipe)])\n",
        "\n",
        "# Model Training\n",
        "pipe = Pipeline(steps=[('preprocessor', preprocessor),\n",
        "              ('model', DecisionTreeRegressor(max_depth=None))])\n",
        "pipeline_model = pipe.fit(X_train, y_train)"
      ],
      "metadata": {
        "id": "V0bGO402WyZl"
      },
      "execution_count": 67,
      "outputs": []
    },
    {
      "cell_type": "code",
      "source": [
        "from sklearn.metrics import explained_variance_score\n",
        "from sklearn.metrics import mean_squared_error\n",
        "from sklearn.metrics import r2_score\n",
        "\n",
        "predictions = pipeline_model.predict(X_test)\n",
        "print(\"\\t RMSE:\", mean_squared_error(y_test, predictions, squared=False))\n",
        "print(\"\\t R2 score:\", r2_score(y_test, predictions))"
      ],
      "metadata": {
        "colab": {
          "base_uri": "https://localhost:8080/"
        },
        "id": "-8N8WTs_jNpE",
        "outputId": "bbba3970-0231-4ec2-baf6-43e96647e29d"
      },
      "execution_count": 68,
      "outputs": [
        {
          "output_type": "stream",
          "name": "stdout",
          "text": [
            "\t RMSE: 0.011311086869999798\n",
            "\t R2 score: 0.8809247022629536\n"
          ]
        }
      ]
    },
    {
      "cell_type": "code",
      "source": [],
      "metadata": {
        "id": "qsFktFncjNlN"
      },
      "execution_count": 68,
      "outputs": []
    },
    {
      "cell_type": "code",
      "source": [],
      "metadata": {
        "id": "lLVWQI5ejNhQ"
      },
      "execution_count": 68,
      "outputs": []
    },
    {
      "cell_type": "code",
      "source": [],
      "metadata": {
        "id": "KUEE6tmojNda"
      },
      "execution_count": 68,
      "outputs": []
    },
    {
      "cell_type": "code",
      "source": [],
      "metadata": {
        "id": "vHWG30-CjNZd"
      },
      "execution_count": 68,
      "outputs": []
    },
    {
      "cell_type": "code",
      "source": [],
      "metadata": {
        "id": "z_WH-KXojNVu"
      },
      "execution_count": 68,
      "outputs": []
    },
    {
      "cell_type": "code",
      "source": [],
      "metadata": {
        "id": "Rb4rcooHjNSV"
      },
      "execution_count": 68,
      "outputs": []
    },
    {
      "cell_type": "code",
      "source": [],
      "metadata": {
        "id": "Lqkn0yLVjNK9"
      },
      "execution_count": 68,
      "outputs": []
    },
    {
      "cell_type": "code",
      "source": [],
      "metadata": {
        "id": "pdQ7uJm1jM35"
      },
      "execution_count": 68,
      "outputs": []
    }
  ]
}